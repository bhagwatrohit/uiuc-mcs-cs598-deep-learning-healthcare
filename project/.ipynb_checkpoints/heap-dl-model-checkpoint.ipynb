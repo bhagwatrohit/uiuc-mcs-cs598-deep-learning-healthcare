{
 "cells": [
  {
   "cell_type": "markdown",
   "metadata": {},
   "source": [
    "# Data Preparation"
   ]
  },
  {
   "cell_type": "code",
   "execution_count": 84,
   "metadata": {},
   "outputs": [],
   "source": [
    "import pandas as pd\n",
    "%matplotlib inline\n",
    "from functools import reduce"
   ]
  },
  {
   "cell_type": "code",
   "execution_count": 85,
   "metadata": {},
   "outputs": [],
   "source": [
    "DATA_PATH='/data/workspace_files/iqvia_data/'\n",
    "\n",
    "files_claims = ['claims_2015.dat','claims_2016.dat', 'claims_2017.dat', 'claims_2018.dat', 'claims_2019.dat']\n",
    "files_lookup = {\n",
    "    'enroll':{'file':'enroll_synth.dat', 'key':'pat_id'},\n",
    "    'enroll2':{'file':'enroll2.dat', 'key':'pat_id'},\n",
    "    'dx_lookup':{'file':'pp_dx_lookup.dat', 'key':'dx_cd'},\n",
    "    'pos_lookup':{'file':'pp_pos_lookup.dat', 'key':'place_of_svc_cd'},\n",
    "    'pr_lookup':{'file':'pp_pr_lookup.dat', 'key':'procedure_cd'},\n",
    "    'rev_lookup':{'file':'pp_rev_lookup.dat', 'key':'rev_cd'},\n",
    "    'rx_lookup':{'file':'pp_rx_lookup.dat', 'key':'ndc'}}\n",
    "selected_columns = ['pat_id', 'rectype', 'pos', 'conf_num', 'ndc', 'formulary', 'quan', 'proc_cde'\n",
    "                   , 'from_dt', 'to_dt', 'diag_admit', 'diag1', 'diag2', 'diag3', 'icdprc1'\n",
    "                   , 'icdprc2', 'icdprc3', 'paid', 'copay', 'dispense_fee', 'bill_spec'\n",
    "                   , 'prscbr_spec', 'pmt_st_cd', 'paid_dt']\n",
    "group_by_columns = ['pat_id', 'from_dt', 'to_dt', 'rectype', 'conf_num', 'icdprc1'\n",
    "                    ,'diag_admit', 'diag1', 'proc_cde', 'bill_spec', 'pos', 'ndc', 'quan'\n",
    "                    ,'formulary', 'paid_dt', 'pmt_st_cd']\n",
    "date_columns = ['from_dt', 'to_dt', 'paid_dt']\n",
    "numerical_columns = ['quan', 'paid', 'copay', 'dispense_fee']\n",
    "e_selected_columns = ['der_sex', 'der_yob', 'pat_id', 'pat_state']\n",
    "e2_selected_columns = ['pat_id', 'mh_cd']\n",
    "claims_dtype = {}\n",
    "for column in selected_columns:\n",
    "    if column in date_columns:\n",
    "        claims_dtype[column] = 'object'\n",
    "    elif column in numerical_columns:\n",
    "        claims_dtype[column] = 'float64'\n",
    "    else:\n",
    "        claims_dtype[column] = 'str'"
   ]
  },
  {
   "cell_type": "code",
   "execution_count": 86,
   "metadata": {},
   "outputs": [],
   "source": [
    "def custom_fill_na(df):\n",
    "    for col in df:\n",
    "        dt = df[col].dtype \n",
    "        if dt == int or dt == float:\n",
    "            df[col].fillna(0, inplace=True)\n",
    "        else:\n",
    "            df[col].fillna(\"-\", inplace=True)\n",
    "\n",
    "def load_data(files):\n",
    "    _data = pd.DataFrame()\n",
    "    for file in files:\n",
    "        print(f'Loading {file}')\n",
    "        _data = _data.append(pd.read_table(DATA_PATH+file, delimiter=\"|\", usecols = selected_columns, dtype = claims_dtype)) \n",
    "    custom_fill_na(_data)        \n",
    "    # Aggregate dataset\n",
    "    _data = _data.groupby(group_by_columns).sum().reset_index()\n",
    "    # Assign Datetime      \n",
    "    for column in date_columns: \n",
    "        _data[column] = pd.to_datetime(_data[column])\n",
    "\n",
    "    return _data"
   ]
  },
  {
   "cell_type": "markdown",
   "metadata": {},
   "source": [
    "## Load 2015 & 2016 Data\n",
    "- We're only loading 2015 and 2016 data\n",
    "- Aggregate the data to the desired level "
   ]
  },
  {
   "cell_type": "code",
   "execution_count": 87,
   "metadata": {},
   "outputs": [
    {
     "name": "stdout",
     "output_type": "stream",
     "text": [
      "Loading claims_2015.dat\n",
      "Loading claims_2016.dat\n"
     ]
    }
   ],
   "source": [
    "'''\n",
    "Only loading 2015 and 2016 data\n",
    "'''\n",
    "combined_data = load_data(files_claims[0:2])"
   ]
  },
  {
   "cell_type": "markdown",
   "metadata": {},
   "source": [
    "## Cleanup & Enrichment\n",
    "- Join to Enroll, DX_Lookup, POS_Lookup, REV_Lookup to get additional relevant features\n",
    "- Remove records for which the lookup values are not available\n",
    "- Add additional features <<Age Group, Duration of stay>>"
   ]
  },
  {
   "cell_type": "code",
   "execution_count": 88,
   "metadata": {},
   "outputs": [
    {
     "name": "stdout",
     "output_type": "stream",
     "text": [
      "(1385440, 26)\n"
     ]
    },
    {
     "data": {
      "text/html": [
       "<div>\n",
       "<style scoped>\n",
       "    .dataframe tbody tr th:only-of-type {\n",
       "        vertical-align: middle;\n",
       "    }\n",
       "\n",
       "    .dataframe tbody tr th {\n",
       "        vertical-align: top;\n",
       "    }\n",
       "\n",
       "    .dataframe thead th {\n",
       "        text-align: right;\n",
       "    }\n",
       "</style>\n",
       "<table border=\"1\" class=\"dataframe\">\n",
       "  <thead>\n",
       "    <tr style=\"text-align: right;\">\n",
       "      <th></th>\n",
       "      <th>pat_id</th>\n",
       "      <th>quarter</th>\n",
       "      <th>from_dt</th>\n",
       "      <th>to_dt</th>\n",
       "      <th>duration</th>\n",
       "      <th>paid_dt</th>\n",
       "      <th>rectype</th>\n",
       "      <th>conf_num</th>\n",
       "      <th>icdprc1</th>\n",
       "      <th>diag_admit</th>\n",
       "      <th>...</th>\n",
       "      <th>der_yob</th>\n",
       "      <th>pat_state</th>\n",
       "      <th>pat_age</th>\n",
       "      <th>age_group</th>\n",
       "      <th>quan</th>\n",
       "      <th>formulary</th>\n",
       "      <th>pmt_st_cd</th>\n",
       "      <th>paid</th>\n",
       "      <th>copay</th>\n",
       "      <th>dispense_fee</th>\n",
       "    </tr>\n",
       "  </thead>\n",
       "  <tbody>\n",
       "    <tr>\n",
       "      <th>0</th>\n",
       "      <td>0309AAAAAAAABEUP</td>\n",
       "      <td>1</td>\n",
       "      <td>2015-01-02</td>\n",
       "      <td>2015-01-02</td>\n",
       "      <td>&lt;7</td>\n",
       "      <td>2015-02-01</td>\n",
       "      <td>M</td>\n",
       "      <td>-</td>\n",
       "      <td>-</td>\n",
       "      <td>-</td>\n",
       "      <td>...</td>\n",
       "      <td>1996.0</td>\n",
       "      <td>MN</td>\n",
       "      <td>19.0</td>\n",
       "      <td>11-20</td>\n",
       "      <td>0.0</td>\n",
       "      <td>-</td>\n",
       "      <td>P</td>\n",
       "      <td>0.00</td>\n",
       "      <td>0.0</td>\n",
       "      <td>0.0</td>\n",
       "    </tr>\n",
       "    <tr>\n",
       "      <th>1</th>\n",
       "      <td>0309AAAAAAAABEUP</td>\n",
       "      <td>1</td>\n",
       "      <td>2015-01-05</td>\n",
       "      <td>2015-01-05</td>\n",
       "      <td>&lt;7</td>\n",
       "      <td>2015-02-04</td>\n",
       "      <td>M</td>\n",
       "      <td>-</td>\n",
       "      <td>-</td>\n",
       "      <td>-</td>\n",
       "      <td>...</td>\n",
       "      <td>1996.0</td>\n",
       "      <td>MN</td>\n",
       "      <td>19.0</td>\n",
       "      <td>11-20</td>\n",
       "      <td>0.0</td>\n",
       "      <td>-</td>\n",
       "      <td>P</td>\n",
       "      <td>0.00</td>\n",
       "      <td>0.0</td>\n",
       "      <td>0.0</td>\n",
       "    </tr>\n",
       "    <tr>\n",
       "      <th>2</th>\n",
       "      <td>0309AAAAAAAABEUP</td>\n",
       "      <td>1</td>\n",
       "      <td>2015-01-20</td>\n",
       "      <td>2015-01-20</td>\n",
       "      <td>&lt;7</td>\n",
       "      <td>2015-02-19</td>\n",
       "      <td>M</td>\n",
       "      <td>-</td>\n",
       "      <td>-</td>\n",
       "      <td>-</td>\n",
       "      <td>...</td>\n",
       "      <td>1996.0</td>\n",
       "      <td>MN</td>\n",
       "      <td>19.0</td>\n",
       "      <td>11-20</td>\n",
       "      <td>0.0</td>\n",
       "      <td>-</td>\n",
       "      <td>P</td>\n",
       "      <td>0.00</td>\n",
       "      <td>0.0</td>\n",
       "      <td>0.0</td>\n",
       "    </tr>\n",
       "    <tr>\n",
       "      <th>3</th>\n",
       "      <td>0309AAAAAAAABEUP</td>\n",
       "      <td>1</td>\n",
       "      <td>2015-02-10</td>\n",
       "      <td>2015-02-10</td>\n",
       "      <td>&lt;7</td>\n",
       "      <td>2015-03-12</td>\n",
       "      <td>M</td>\n",
       "      <td>-</td>\n",
       "      <td>-</td>\n",
       "      <td>-</td>\n",
       "      <td>...</td>\n",
       "      <td>1996.0</td>\n",
       "      <td>MN</td>\n",
       "      <td>19.0</td>\n",
       "      <td>11-20</td>\n",
       "      <td>0.0</td>\n",
       "      <td>-</td>\n",
       "      <td>P</td>\n",
       "      <td>0.00</td>\n",
       "      <td>0.0</td>\n",
       "      <td>0.0</td>\n",
       "    </tr>\n",
       "    <tr>\n",
       "      <th>4</th>\n",
       "      <td>0309AAAAAAAABEUP</td>\n",
       "      <td>1</td>\n",
       "      <td>2015-03-03</td>\n",
       "      <td>2015-03-03</td>\n",
       "      <td>&lt;7</td>\n",
       "      <td>2015-04-02</td>\n",
       "      <td>M</td>\n",
       "      <td>-</td>\n",
       "      <td>-</td>\n",
       "      <td>-</td>\n",
       "      <td>...</td>\n",
       "      <td>1996.0</td>\n",
       "      <td>MN</td>\n",
       "      <td>19.0</td>\n",
       "      <td>11-20</td>\n",
       "      <td>0.0</td>\n",
       "      <td>-</td>\n",
       "      <td>P</td>\n",
       "      <td>0.00</td>\n",
       "      <td>0.0</td>\n",
       "      <td>0.0</td>\n",
       "    </tr>\n",
       "    <tr>\n",
       "      <th>...</th>\n",
       "      <td>...</td>\n",
       "      <td>...</td>\n",
       "      <td>...</td>\n",
       "      <td>...</td>\n",
       "      <td>...</td>\n",
       "      <td>...</td>\n",
       "      <td>...</td>\n",
       "      <td>...</td>\n",
       "      <td>...</td>\n",
       "      <td>...</td>\n",
       "      <td>...</td>\n",
       "      <td>...</td>\n",
       "      <td>...</td>\n",
       "      <td>...</td>\n",
       "      <td>...</td>\n",
       "      <td>...</td>\n",
       "      <td>...</td>\n",
       "      <td>...</td>\n",
       "      <td>...</td>\n",
       "      <td>...</td>\n",
       "      <td>...</td>\n",
       "    </tr>\n",
       "    <tr>\n",
       "      <th>1385435</th>\n",
       "      <td>s153AAAAAQWAQSGZ</td>\n",
       "      <td>4</td>\n",
       "      <td>2016-12-28</td>\n",
       "      <td>2016-12-28</td>\n",
       "      <td>&lt;7</td>\n",
       "      <td>2017-01-27</td>\n",
       "      <td>S</td>\n",
       "      <td>-</td>\n",
       "      <td>-</td>\n",
       "      <td>-</td>\n",
       "      <td>...</td>\n",
       "      <td>1963.0</td>\n",
       "      <td>WA</td>\n",
       "      <td>53.0</td>\n",
       "      <td>51-60</td>\n",
       "      <td>0.0</td>\n",
       "      <td>-</td>\n",
       "      <td>P</td>\n",
       "      <td>181.22</td>\n",
       "      <td>0.0</td>\n",
       "      <td>0.0</td>\n",
       "    </tr>\n",
       "    <tr>\n",
       "      <th>1385436</th>\n",
       "      <td>s153AAAAAQWAQSGZ</td>\n",
       "      <td>4</td>\n",
       "      <td>2016-12-29</td>\n",
       "      <td>2016-12-29</td>\n",
       "      <td>&lt;7</td>\n",
       "      <td>2017-01-03</td>\n",
       "      <td>-</td>\n",
       "      <td>-</td>\n",
       "      <td>-</td>\n",
       "      <td>-</td>\n",
       "      <td>...</td>\n",
       "      <td>1963.0</td>\n",
       "      <td>WA</td>\n",
       "      <td>53.0</td>\n",
       "      <td>51-60</td>\n",
       "      <td>30.0</td>\n",
       "      <td>Y</td>\n",
       "      <td>P</td>\n",
       "      <td>7.00</td>\n",
       "      <td>0.0</td>\n",
       "      <td>0.0</td>\n",
       "    </tr>\n",
       "    <tr>\n",
       "      <th>1385437</th>\n",
       "      <td>s153AAAAAQWAQSGZ</td>\n",
       "      <td>4</td>\n",
       "      <td>2016-12-29</td>\n",
       "      <td>2016-12-29</td>\n",
       "      <td>&lt;7</td>\n",
       "      <td>2017-01-03</td>\n",
       "      <td>-</td>\n",
       "      <td>-</td>\n",
       "      <td>-</td>\n",
       "      <td>-</td>\n",
       "      <td>...</td>\n",
       "      <td>1963.0</td>\n",
       "      <td>WA</td>\n",
       "      <td>53.0</td>\n",
       "      <td>51-60</td>\n",
       "      <td>60.0</td>\n",
       "      <td>Y</td>\n",
       "      <td>P</td>\n",
       "      <td>13.42</td>\n",
       "      <td>0.0</td>\n",
       "      <td>0.0</td>\n",
       "    </tr>\n",
       "    <tr>\n",
       "      <th>1385438</th>\n",
       "      <td>s153AAAAAQWAQSGZ</td>\n",
       "      <td>4</td>\n",
       "      <td>2016-12-29</td>\n",
       "      <td>2016-12-29</td>\n",
       "      <td>&lt;7</td>\n",
       "      <td>2017-01-03</td>\n",
       "      <td>P</td>\n",
       "      <td>-</td>\n",
       "      <td>-</td>\n",
       "      <td>-</td>\n",
       "      <td>...</td>\n",
       "      <td>1963.0</td>\n",
       "      <td>WA</td>\n",
       "      <td>53.0</td>\n",
       "      <td>51-60</td>\n",
       "      <td>7.0</td>\n",
       "      <td>Y</td>\n",
       "      <td>P</td>\n",
       "      <td>3.79</td>\n",
       "      <td>0.0</td>\n",
       "      <td>0.0</td>\n",
       "    </tr>\n",
       "    <tr>\n",
       "      <th>1385439</th>\n",
       "      <td>s153AAAAAQWAQSGZ</td>\n",
       "      <td>4</td>\n",
       "      <td>2016-12-29</td>\n",
       "      <td>2016-12-29</td>\n",
       "      <td>&lt;7</td>\n",
       "      <td>2017-01-03</td>\n",
       "      <td>P</td>\n",
       "      <td>-</td>\n",
       "      <td>-</td>\n",
       "      <td>-</td>\n",
       "      <td>...</td>\n",
       "      <td>1963.0</td>\n",
       "      <td>WA</td>\n",
       "      <td>53.0</td>\n",
       "      <td>51-60</td>\n",
       "      <td>60.0</td>\n",
       "      <td>Y</td>\n",
       "      <td>P</td>\n",
       "      <td>519.20</td>\n",
       "      <td>0.0</td>\n",
       "      <td>0.0</td>\n",
       "    </tr>\n",
       "  </tbody>\n",
       "</table>\n",
       "<p>1385440 rows × 26 columns</p>\n",
       "</div>"
      ]
     },
     "metadata": {},
     "output_type": "display_data"
    }
   ],
   "source": [
    "dx_lookup = pd.read_table(DATA_PATH+files_lookup['dx_lookup']['file'],delimiter=\"|\")\n",
    "pos_lookup = pd.read_table(DATA_PATH+files_lookup['pos_lookup']['file'],delimiter=\"|\")\n",
    "pr_lookup = pd.read_table(DATA_PATH+files_lookup['pr_lookup']['file'],delimiter=\"|\")\n",
    "rev_lookup = pd.read_table(DATA_PATH+files_lookup['rev_lookup']['file'],delimiter=\"|\")\n",
    "\n",
    "''' \n",
    "We only want the values that are available in the lookup\n",
    "'''\n",
    "dx_key = files_lookup['dx_lookup']['key']\n",
    "pos_key = files_lookup['pos_lookup']['key'] \n",
    "pr_key = files_lookup['pr_lookup']['key'] \n",
    "# rev_key = files_lookup['rev_lookup']['key'] \n",
    "\n",
    "combined_data = combined_data[(combined_data['diag1'].isin(dx_lookup[dx_key])) | (combined_data['diag1']==\"-\")]\n",
    "combined_data = combined_data[(combined_data['diag_admit'].isin(dx_lookup[dx_key])) | (combined_data['diag_admit']==\"-\")]\n",
    "# print(combined_data[(combined_data['pos'].isin(pos_lookup[pos_key])) | (combined_data['pos']==\"\")].shape)\n",
    "combined_data = combined_data[(combined_data['proc_cde'].isin(pr_lookup[pr_key])) | (combined_data['proc_cde']==\"-\")]\n",
    "\n",
    "enroll = pd.read_table(DATA_PATH+files_lookup['enroll']['file'],delimiter=\"|\", usecols = e_selected_columns)\n",
    "\n",
    "data_frames = [combined_data, enroll]\n",
    "combined_data = reduce(lambda  left,right: pd.merge(left,right,on=['pat_id'],how='inner'), data_frames)\n",
    "\n",
    "# Derived columns \n",
    "\n",
    "# combined_data['quarter'] = combined_data['to_dt'].dt.to_period(\"Q\")\n",
    "combined_data['quarter'] = combined_data['to_dt'].dt.quarter \n",
    "\n",
    "# Duration - The length of stay, we will group them into buckets\n",
    "combined_data['duration'] = combined_data['to_dt'] - combined_data['from_dt']\n",
    "duration_bins= [pd.Timedelta(days = 0),\n",
    "                pd.Timedelta(days = 7),\n",
    "                pd.Timedelta(days = 15),\n",
    "                pd.Timedelta(days = 30),\n",
    "                pd.Timedelta(days = 60),\n",
    "                pd.Timedelta(days = 5000)]\n",
    "duration_groups = ['<7', '8-15', '16-30', '31-60', '60>']\n",
    "combined_data['duration'] = pd.cut(combined_data['duration'], bins=duration_bins, labels=duration_groups, right=False)\n",
    "\n",
    "# Age & Age Group - Age is deried from To date and Patient DOB if available\n",
    "combined_data['pat_age'] = combined_data['to_dt'].dt.year - combined_data['der_yob']\n",
    "pat_age_bins= [0,10,20,30,40,50,60,70,80,150]\n",
    "pat_age_groups = ['0-10', '11-20', '21-30', '31-40', '41-50', '51-60', '61-70', '71-80', '81 >']\n",
    "combined_data['age_group'] = pd.cut(combined_data['pat_age'], bins=pat_age_bins, labels=pat_age_groups, right=False)\n",
    "\n",
    "# Setup Column order for easier readability\n",
    "column_order = ['pat_id', 'quarter','from_dt', 'to_dt', 'duration', 'paid_dt', 'rectype', 'conf_num', 'icdprc1',\n",
    "       'diag_admit', 'diag1', 'proc_cde', 'ndc', 'bill_spec', 'pos','der_sex', 'der_yob', 'pat_state',  'pat_age',\n",
    "       'age_group', 'quan', 'formulary',  'pmt_st_cd', 'paid', 'copay', 'dispense_fee']\n",
    "\n",
    "if set(column_order) == set(combined_data.columns):\n",
    "       combined_data = combined_data[column_order]\n",
    "else: \n",
    "       print(\"Columns don't match, cannot reorder!\")\n",
    "\n",
    "print(combined_data.shape)\n",
    "combined_data"
   ]
  },
  {
   "cell_type": "markdown",
   "metadata": {},
   "source": [
    "## Load to CSV (To avoid rerunning Data Prep)"
   ]
  },
  {
   "cell_type": "code",
   "execution_count": 89,
   "metadata": {},
   "outputs": [],
   "source": [
    "combined_data.to_csv(DATA_PATH+'clean/model_input.csv', sep='|')"
   ]
  },
  {
   "cell_type": "markdown",
   "metadata": {},
   "source": [
    "# Data Analysis"
   ]
  },
  {
   "cell_type": "code",
   "execution_count": 158,
   "metadata": {},
   "outputs": [],
   "source": [
    "import pandas as pd\n",
    "%matplotlib inline\n",
    "import seaborn as sns\n",
    "from sklearn.preprocessing import LabelEncoder, OneHotEncoder, OrdinalEncoder, MinMaxScaler, RobustScaler, QuantileTransformer\n",
    "from scipy import stats\n",
    "import numpy as np\n",
    "import matplotlib.pyplot as plt\n",
    "from sklearn.pipeline import make_pipeline"
   ]
  },
  {
   "cell_type": "markdown",
   "metadata": {},
   "source": [
    "## Load Aggregated Data"
   ]
  },
  {
   "cell_type": "code",
   "execution_count": 159,
   "metadata": {},
   "outputs": [],
   "source": [
    "DATA_PATH='/data/workspace_files/iqvia_data/clean/model_input.csv'\n",
    "\n",
    "input_columns = ['pat_id', 'quarter','from_dt', 'to_dt', 'duration', 'paid_dt', 'rectype', 'conf_num', 'icdprc1',\n",
    "       'diag_admit', 'diag1', 'proc_cde', 'ndc', 'bill_spec', 'pos','der_sex', 'der_yob', 'pat_state',  'pat_age',\n",
    "       'age_group', 'quan', 'formulary',  'pmt_st_cd', 'paid', 'copay', 'dispense_fee']\n",
    "\n",
    "date_columns = ['from_dt', 'to_dt', 'paid_dt']\n",
    "numerical_columns = ['quan', 'paid', 'copay', 'dispense_fee']\n",
    "category = ['age_group','duration']\n",
    "period = ['quarter']\n",
    "\n",
    "categorical_features = ['quarter','rectype', 'icdprc1', 'diag_admit', 'diag1', 'proc_cde', 'bill_spec'\n",
    "                         , 'pos', 'ndc', 'formulary', 'pat_state', 'der_sex']\n",
    "ordinal_features = ['duration', 'age_group']\n",
    "continuous_features = ['quan', 'pat_age']\n",
    "target = ['target']\n",
    "\n",
    "claims_dtype = {}\n",
    "for column in input_columns:\n",
    "    if column in numerical_columns:\n",
    "        claims_dtype[column] = 'float64'\n",
    "    else:\n",
    "        claims_dtype[column] = 'object'"
   ]
  },
  {
   "cell_type": "code",
   "execution_count": 160,
   "metadata": {},
   "outputs": [],
   "source": [
    "data = pd.read_csv(DATA_PATH, delimiter=\"|\", dtype = claims_dtype)\n",
    "data = data.drop('Unnamed: 0', axis=1)\n",
    "for column in date_columns:\n",
    "    data[column] = pd.to_datetime(data[column])\n",
    "\n",
    "for column in category: \n",
    "    data[column] = data[column].astype('category')"
   ]
  },
  {
   "cell_type": "markdown",
   "metadata": {},
   "source": [
    "## Target Features \n",
    "- paid, copay, dispense\n",
    "- Distribution, Scale, Outliers"
   ]
  },
  {
   "cell_type": "code",
   "execution_count": 161,
   "metadata": {},
   "outputs": [
    {
     "data": {
      "text/html": [
       "<div>\n",
       "<style scoped>\n",
       "    .dataframe tbody tr th:only-of-type {\n",
       "        vertical-align: middle;\n",
       "    }\n",
       "\n",
       "    .dataframe tbody tr th {\n",
       "        vertical-align: top;\n",
       "    }\n",
       "\n",
       "    .dataframe thead th {\n",
       "        text-align: right;\n",
       "    }\n",
       "</style>\n",
       "<table border=\"1\" class=\"dataframe\">\n",
       "  <thead>\n",
       "    <tr style=\"text-align: right;\">\n",
       "      <th></th>\n",
       "      <th>paid</th>\n",
       "      <th>copay</th>\n",
       "      <th>dispense_fee</th>\n",
       "    </tr>\n",
       "  </thead>\n",
       "  <tbody>\n",
       "    <tr>\n",
       "      <th>count</th>\n",
       "      <td>1.385440e+06</td>\n",
       "      <td>1.385440e+06</td>\n",
       "      <td>1.385440e+06</td>\n",
       "    </tr>\n",
       "    <tr>\n",
       "      <th>mean</th>\n",
       "      <td>1.074254e+02</td>\n",
       "      <td>2.619970e+00</td>\n",
       "      <td>5.273245e-02</td>\n",
       "    </tr>\n",
       "    <tr>\n",
       "      <th>std</th>\n",
       "      <td>1.175264e+03</td>\n",
       "      <td>9.879154e+01</td>\n",
       "      <td>3.698903e-01</td>\n",
       "    </tr>\n",
       "    <tr>\n",
       "      <th>min</th>\n",
       "      <td>-3.087840e+03</td>\n",
       "      <td>-8.126300e+03</td>\n",
       "      <td>-1.500000e+00</td>\n",
       "    </tr>\n",
       "    <tr>\n",
       "      <th>50%</th>\n",
       "      <td>1.247000e+01</td>\n",
       "      <td>0.000000e+00</td>\n",
       "      <td>0.000000e+00</td>\n",
       "    </tr>\n",
       "    <tr>\n",
       "      <th>75%</th>\n",
       "      <td>5.767000e+01</td>\n",
       "      <td>0.000000e+00</td>\n",
       "      <td>0.000000e+00</td>\n",
       "    </tr>\n",
       "    <tr>\n",
       "      <th>90%</th>\n",
       "      <td>1.529100e+02</td>\n",
       "      <td>0.000000e+00</td>\n",
       "      <td>0.000000e+00</td>\n",
       "    </tr>\n",
       "    <tr>\n",
       "      <th>99%</th>\n",
       "      <td>1.333900e+03</td>\n",
       "      <td>3.531660e+01</td>\n",
       "      <td>1.500000e+00</td>\n",
       "    </tr>\n",
       "    <tr>\n",
       "      <th>100%</th>\n",
       "      <td>7.096826e+05</td>\n",
       "      <td>3.097500e+04</td>\n",
       "      <td>1.800000e+01</td>\n",
       "    </tr>\n",
       "    <tr>\n",
       "      <th>max</th>\n",
       "      <td>7.096826e+05</td>\n",
       "      <td>3.097500e+04</td>\n",
       "      <td>1.800000e+01</td>\n",
       "    </tr>\n",
       "  </tbody>\n",
       "</table>\n",
       "</div>"
      ]
     },
     "metadata": {},
     "output_type": "display_data"
    }
   ],
   "source": [
    "# Create a column that represents the total cost = paid + copay + dispense_fee\n",
    "target_columns = ['paid', 'copay', 'dispense_fee']\n",
    "data['target'] = (data.loc[:, numerical_columns]).sum(axis='columns')\n",
    "\n",
    "\n",
    "data[target_columns].describe(percentiles=[0.5,0.75,0.9,0.99,1])"
   ]
  },
  {
   "cell_type": "code",
   "execution_count": 162,
   "metadata": {},
   "outputs": [
    {
     "data": {
      "image/png": "[encoded data removed]"
     },
     "metadata": {
      "image/png": {
       "height": 0,
       "width": 0
      }
     },
     "output_type": "display_data"
    }
   ],
   "source": [
    "sns.set(rc={'figure.figsize':(16,16)})\n",
    "fig, ax = plt.subplots(3,2)\n",
    "sns.kdeplot(x=data['copay'], ax=ax[0,0])\n",
    "sns.kdeplot(x=data['paid'], ax=ax[0,1])\n",
    "sns.kdeplot(x=data['dispense_fee'], ax=ax[1,0])\n",
    "\n",
    "sns.boxplot(x=data['copay'], ax=ax[1,1])\n",
    "sns.boxplot(x=data['paid'], ax=ax[2,0])\n",
    "sns.boxplot(x=data['dispense_fee'], ax=ax[2,1])\n",
    "fig.show()"
   ]
  },
  {
   "cell_type": "code",
   "execution_count": 163,
   "metadata": {},
   "outputs": [
    {
     "data": {
      "image/png": "[encoded data removed]",
      "text/plain": [
       "array([[<AxesSubplot:title={'center':'quan'}>,\n",
       "        <AxesSubplot:title={'center':'paid'}>],\n",
       "       [<AxesSubplot:title={'center':'copay'}>,\n",
       "        <AxesSubplot:title={'center':'dispense_fee'}>]], dtype=object)"
      ]
     },
     "metadata": {
      "image/png": {
       "height": 0,
       "width": 0
      }
     },
     "output_type": "display_data"
    }
   ],
   "source": [
    "no_outliers = data.copy()\n",
    "def find_outliers(x):\n",
    "    q1 = np.percentile(x,25)\n",
    "    q3 = np.percentile(x,75)\n",
    "    iqr = q3-q1\n",
    "    floor = q1 - 1.5*iqr\n",
    "    ceiling = q3 + 1.5*iqr\n",
    "    outlier_indices = list(x.index[(x<floor) | (x > ceiling)])\n",
    "    outlier_values = list(x[outlier_indices])\n",
    "    return outlier_indices, outlier_values\n",
    "    \n",
    "# Dropping Outliers\n",
    "for column in numerical_columns: \n",
    "    paid_indices, paid_values = find_outliers(no_outliers[column])\n",
    "    no_outliers.drop(paid_indices, axis=0, inplace=True)\n",
    "\n",
    "no_outliers[numerical_columns].hist(figsize=(16,8))"
   ]
  },
  {
   "cell_type": "code",
   "execution_count": 164,
   "metadata": {},
   "outputs": [
    {
     "data": {
      "image/png": "[encoded data removed]",
      "text/plain": [
       "<AxesSubplot:xlabel='paid'>"
      ]
     },
     "metadata": {
      "image/png": {
       "height": 0,
       "width": 0
      }
     },
     "output_type": "display_data"
    }
   ],
   "source": [
    "sns.set(rc={'figure.figsize':(6,6)})\n",
    "sns.boxplot(x=no_outliers['paid'])"
   ]
  },
  {
   "cell_type": "markdown",
   "metadata": {},
   "source": [
    "**Observations**\n",
    "- Outliers"
   ]
  },
  {
   "cell_type": "markdown",
   "metadata": {},
   "source": [
    "## Independent features"
   ]
  },
  {
   "cell_type": "code",
   "execution_count": 165,
   "metadata": {},
   "outputs": [
    {
     "data": {
      "text/html": [
       "<div>\n",
       "<style scoped>\n",
       "    .dataframe tbody tr th:only-of-type {\n",
       "        vertical-align: middle;\n",
       "    }\n",
       "\n",
       "    .dataframe tbody tr th {\n",
       "        vertical-align: top;\n",
       "    }\n",
       "\n",
       "    .dataframe thead th {\n",
       "        text-align: right;\n",
       "    }\n",
       "</style>\n",
       "<table border=\"1\" class=\"dataframe\">\n",
       "  <thead>\n",
       "    <tr style=\"text-align: right;\">\n",
       "      <th></th>\n",
       "      <th>count</th>\n",
       "      <th>unique</th>\n",
       "      <th>top</th>\n",
       "      <th>freq</th>\n",
       "    </tr>\n",
       "  </thead>\n",
       "  <tbody>\n",
       "    <tr>\n",
       "      <th>quarter</th>\n",
       "      <td>1385440</td>\n",
       "      <td>4</td>\n",
       "      <td>4</td>\n",
       "      <td>363704</td>\n",
       "    </tr>\n",
       "    <tr>\n",
       "      <th>rectype</th>\n",
       "      <td>1385440</td>\n",
       "      <td>6</td>\n",
       "      <td>A</td>\n",
       "      <td>572658</td>\n",
       "    </tr>\n",
       "    <tr>\n",
       "      <th>icdprc1</th>\n",
       "      <td>1385440</td>\n",
       "      <td>425</td>\n",
       "      <td>-</td>\n",
       "      <td>1381494</td>\n",
       "    </tr>\n",
       "    <tr>\n",
       "      <th>diag_admit</th>\n",
       "      <td>1385440</td>\n",
       "      <td>1218</td>\n",
       "      <td>-</td>\n",
       "      <td>1377230</td>\n",
       "    </tr>\n",
       "    <tr>\n",
       "      <th>diag1</th>\n",
       "      <td>1385440</td>\n",
       "      <td>14857</td>\n",
       "      <td>-</td>\n",
       "      <td>421564</td>\n",
       "    </tr>\n",
       "    <tr>\n",
       "      <th>proc_cde</th>\n",
       "      <td>1385440</td>\n",
       "      <td>6593</td>\n",
       "      <td>-</td>\n",
       "      <td>462652</td>\n",
       "    </tr>\n",
       "    <tr>\n",
       "      <th>bill_spec</th>\n",
       "      <td>1385440</td>\n",
       "      <td>64</td>\n",
       "      <td>-</td>\n",
       "      <td>450310</td>\n",
       "    </tr>\n",
       "    <tr>\n",
       "      <th>pos</th>\n",
       "      <td>1385440</td>\n",
       "      <td>40</td>\n",
       "      <td>11</td>\n",
       "      <td>453870</td>\n",
       "    </tr>\n",
       "    <tr>\n",
       "      <th>ndc</th>\n",
       "      <td>1385440</td>\n",
       "      <td>13919</td>\n",
       "      <td>-</td>\n",
       "      <td>966073</td>\n",
       "    </tr>\n",
       "    <tr>\n",
       "      <th>formulary</th>\n",
       "      <td>1385440</td>\n",
       "      <td>5</td>\n",
       "      <td>-</td>\n",
       "      <td>1158635</td>\n",
       "    </tr>\n",
       "    <tr>\n",
       "      <th>pat_state</th>\n",
       "      <td>1345019</td>\n",
       "      <td>51</td>\n",
       "      <td>NY</td>\n",
       "      <td>171547</td>\n",
       "    </tr>\n",
       "    <tr>\n",
       "      <th>der_sex</th>\n",
       "      <td>1385440</td>\n",
       "      <td>3</td>\n",
       "      <td>F</td>\n",
       "      <td>857599</td>\n",
       "    </tr>\n",
       "  </tbody>\n",
       "</table>\n",
       "</div>"
      ]
     },
     "metadata": {},
     "output_type": "display_data"
    }
   ],
   "source": [
    "data[categorical_features].describe().T"
   ]
  },
  {
   "cell_type": "code",
   "execution_count": 178,
   "metadata": {},
   "outputs": [
    {
     "data": {
      "image/png": "[encoded data removed]",
      "text/plain": [
       "<Figure size 576x576 with 0 Axes>"
      ]
     },
     "metadata": {
      "image/png": {
       "height": 0,
       "width": 0
      }
     },
     "output_type": "display_data"
    }
   ],
   "source": [
    "sns.set(rc={'figure.figsize':(18,24)})\n",
    "fig, ax = plt.subplots(len(categorical_features)//2,2)\n",
    "r = c = 0\n",
    "for column in categorical_features:\n",
    "    if c > 1:\n",
    "        c = 0\n",
    "        r = r+1\n",
    "    data[column].value_counts(normalize=True).sort_values(ascending=False).plot(title=column,ax=ax[r,c])\n",
    "    c = c + 1\n",
    "plt.figure(figsize=(8,8)) \n",
    "plt.show()"
   ]
  },
  {
   "cell_type": "markdown",
   "metadata": {},
   "source": [
    "### Independent features (no unknowns)"
   ]
  },
  {
   "cell_type": "code",
   "execution_count": 179,
   "metadata": {},
   "outputs": [
    {
     "data": {
      "image/png": "[encoded data removed]"
     },
     "metadata": {
      "image/png": {
       "height": 0,
       "width": 0
      }
     },
     "output_type": "display_data"
    }
   ],
   "source": [
    "fig, ax = plt.subplots(len(categorical_features)//2,2)\n",
    "r = c = 0\n",
    "for column in categorical_features:\n",
    "    if c > 1:\n",
    "        c = 0\n",
    "        r = r+1\n",
    "    data.loc[data[column] != \"-\",column].value_counts(normalize=True).sort_values(ascending=False).plot(title=column,ax=ax[r,c])\n",
    "    c = c + 1\n",
    "plt.show()"
   ]
  },
  {
   "cell_type": "code",
   "execution_count": 0,
   "metadata": {},
   "outputs": [],
   "source": []
  },
  {
   "cell_type": "markdown",
   "metadata": {},
   "source": [
    "# Baseline Regression Models"
   ]
  },
  {
   "cell_type": "code",
   "execution_count": 99,
   "metadata": {},
   "outputs": [],
   "source": [
    "import numpy as np # linear algebra\n",
    "import pandas as pd # data processing, CSV file I/O (e.g. pd.read_csv)\n",
    "import seaborn as sns\n",
    "import matplotlib.pyplot as plt\n",
    "import plotly.graph_objects as go\n",
    "import matplotlib.style as style\n",
    "import plotly.express as px\n",
    "import warnings\n",
    "warnings.filterwarnings('ignore')"
   ]
  },
  {
   "cell_type": "code",
   "execution_count": 100,
   "metadata": {},
   "outputs": [],
   "source": [
    "DATA_PATH='/data/workspace_files/iqvia_data/clean/model_input.csv'"
   ]
  },
  {
   "cell_type": "code",
   "execution_count": 101,
   "metadata": {},
   "outputs": [],
   "source": [
    "d_train = pd.read_csv(DATA_PATH,delimiter=\"|\", usecols=[\"quarter\",\"duration\",\"rectype\",\"pos\",\"pat_age\", \"der_sex\",\"paid\",\"dispense_fee\",\"copay\",\"age_group\",\"bill_spec\",\"formulary\"])"
   ]
  },
  {
   "cell_type": "code",
   "execution_count": 102,
   "metadata": {},
   "outputs": [
    {
     "data": {
      "text/html": [
       "<div>\n",
       "<style scoped>\n",
       "    .dataframe tbody tr th:only-of-type {\n",
       "        vertical-align: middle;\n",
       "    }\n",
       "\n",
       "    .dataframe tbody tr th {\n",
       "        vertical-align: top;\n",
       "    }\n",
       "\n",
       "    .dataframe thead th {\n",
       "        text-align: right;\n",
       "    }\n",
       "</style>\n",
       "<table border=\"1\" class=\"dataframe\">\n",
       "  <thead>\n",
       "    <tr style=\"text-align: right;\">\n",
       "      <th></th>\n",
       "      <th>count</th>\n",
       "      <th>unique</th>\n",
       "      <th>top</th>\n",
       "      <th>freq</th>\n",
       "      <th>mean</th>\n",
       "      <th>std</th>\n",
       "      <th>min</th>\n",
       "      <th>25%</th>\n",
       "      <th>50%</th>\n",
       "      <th>75%</th>\n",
       "      <th>max</th>\n",
       "    </tr>\n",
       "  </thead>\n",
       "  <tbody>\n",
       "    <tr>\n",
       "      <th>quarter</th>\n",
       "      <td>1385440.0</td>\n",
       "      <td>NaN</td>\n",
       "      <td>NaN</td>\n",
       "      <td>NaN</td>\n",
       "      <td>2.522277</td>\n",
       "      <td>1.126725</td>\n",
       "      <td>1.0</td>\n",
       "      <td>2.0</td>\n",
       "      <td>3.0</td>\n",
       "      <td>4.0</td>\n",
       "      <td>4.0</td>\n",
       "    </tr>\n",
       "    <tr>\n",
       "      <th>duration</th>\n",
       "      <td>1385440</td>\n",
       "      <td>5</td>\n",
       "      <td>&lt;7</td>\n",
       "      <td>1381887</td>\n",
       "      <td>NaN</td>\n",
       "      <td>NaN</td>\n",
       "      <td>NaN</td>\n",
       "      <td>NaN</td>\n",
       "      <td>NaN</td>\n",
       "      <td>NaN</td>\n",
       "      <td>NaN</td>\n",
       "    </tr>\n",
       "    <tr>\n",
       "      <th>rectype</th>\n",
       "      <td>1385440</td>\n",
       "      <td>6</td>\n",
       "      <td>A</td>\n",
       "      <td>572658</td>\n",
       "      <td>NaN</td>\n",
       "      <td>NaN</td>\n",
       "      <td>NaN</td>\n",
       "      <td>NaN</td>\n",
       "      <td>NaN</td>\n",
       "      <td>NaN</td>\n",
       "      <td>NaN</td>\n",
       "    </tr>\n",
       "    <tr>\n",
       "      <th>bill_spec</th>\n",
       "      <td>1385440</td>\n",
       "      <td>64</td>\n",
       "      <td>-</td>\n",
       "      <td>450310</td>\n",
       "      <td>NaN</td>\n",
       "      <td>NaN</td>\n",
       "      <td>NaN</td>\n",
       "      <td>NaN</td>\n",
       "      <td>NaN</td>\n",
       "      <td>NaN</td>\n",
       "      <td>NaN</td>\n",
       "    </tr>\n",
       "    <tr>\n",
       "      <th>pos</th>\n",
       "      <td>1385440</td>\n",
       "      <td>75</td>\n",
       "      <td>11</td>\n",
       "      <td>306231</td>\n",
       "      <td>NaN</td>\n",
       "      <td>NaN</td>\n",
       "      <td>NaN</td>\n",
       "      <td>NaN</td>\n",
       "      <td>NaN</td>\n",
       "      <td>NaN</td>\n",
       "      <td>NaN</td>\n",
       "    </tr>\n",
       "    <tr>\n",
       "      <th>der_sex</th>\n",
       "      <td>1385440</td>\n",
       "      <td>3</td>\n",
       "      <td>F</td>\n",
       "      <td>857599</td>\n",
       "      <td>NaN</td>\n",
       "      <td>NaN</td>\n",
       "      <td>NaN</td>\n",
       "      <td>NaN</td>\n",
       "      <td>NaN</td>\n",
       "      <td>NaN</td>\n",
       "      <td>NaN</td>\n",
       "    </tr>\n",
       "    <tr>\n",
       "      <th>pat_age</th>\n",
       "      <td>1383578.0</td>\n",
       "      <td>NaN</td>\n",
       "      <td>NaN</td>\n",
       "      <td>NaN</td>\n",
       "      <td>86.702111</td>\n",
       "      <td>295.872849</td>\n",
       "      <td>-1.0</td>\n",
       "      <td>26.0</td>\n",
       "      <td>46.0</td>\n",
       "      <td>59.0</td>\n",
       "      <td>2017.0</td>\n",
       "    </tr>\n",
       "    <tr>\n",
       "      <th>age_group</th>\n",
       "      <td>1351721</td>\n",
       "      <td>9</td>\n",
       "      <td>51-60</td>\n",
       "      <td>289115</td>\n",
       "      <td>NaN</td>\n",
       "      <td>NaN</td>\n",
       "      <td>NaN</td>\n",
       "      <td>NaN</td>\n",
       "      <td>NaN</td>\n",
       "      <td>NaN</td>\n",
       "      <td>NaN</td>\n",
       "    </tr>\n",
       "    <tr>\n",
       "      <th>formulary</th>\n",
       "      <td>1385440</td>\n",
       "      <td>5</td>\n",
       "      <td>-</td>\n",
       "      <td>1158635</td>\n",
       "      <td>NaN</td>\n",
       "      <td>NaN</td>\n",
       "      <td>NaN</td>\n",
       "      <td>NaN</td>\n",
       "      <td>NaN</td>\n",
       "      <td>NaN</td>\n",
       "      <td>NaN</td>\n",
       "    </tr>\n",
       "    <tr>\n",
       "      <th>paid</th>\n",
       "      <td>1385440.0</td>\n",
       "      <td>NaN</td>\n",
       "      <td>NaN</td>\n",
       "      <td>NaN</td>\n",
       "      <td>107.425354</td>\n",
       "      <td>1175.263649</td>\n",
       "      <td>-3087.84</td>\n",
       "      <td>0.0</td>\n",
       "      <td>12.47</td>\n",
       "      <td>57.67</td>\n",
       "      <td>709682.55</td>\n",
       "    </tr>\n",
       "    <tr>\n",
       "      <th>copay</th>\n",
       "      <td>1385440.0</td>\n",
       "      <td>NaN</td>\n",
       "      <td>NaN</td>\n",
       "      <td>NaN</td>\n",
       "      <td>2.61997</td>\n",
       "      <td>98.791536</td>\n",
       "      <td>-8126.3</td>\n",
       "      <td>0.0</td>\n",
       "      <td>0.0</td>\n",
       "      <td>0.0</td>\n",
       "      <td>30975.0</td>\n",
       "    </tr>\n",
       "    <tr>\n",
       "      <th>dispense_fee</th>\n",
       "      <td>1385440.0</td>\n",
       "      <td>NaN</td>\n",
       "      <td>NaN</td>\n",
       "      <td>NaN</td>\n",
       "      <td>0.052732</td>\n",
       "      <td>0.36989</td>\n",
       "      <td>-1.5</td>\n",
       "      <td>0.0</td>\n",
       "      <td>0.0</td>\n",
       "      <td>0.0</td>\n",
       "      <td>18.0</td>\n",
       "    </tr>\n",
       "  </tbody>\n",
       "</table>\n",
       "</div>"
      ]
     },
     "metadata": {},
     "output_type": "display_data"
    }
   ],
   "source": [
    "d_train.describe(include='all').T"
   ]
  },
  {
   "cell_type": "code",
   "execution_count": 103,
   "metadata": {},
   "outputs": [],
   "source": [
    "# Create a column that represents the total cost = paid + copay + dispense_fee\n",
    "target_columns = ['paid', 'copay', 'dispense_fee']\n",
    "d_train['target'] = (d_train.loc[:, target_columns]).sum(axis='columns')"
   ]
  },
  {
   "cell_type": "code",
   "execution_count": 104,
   "metadata": {},
   "outputs": [
    {
     "data": {
      "text/plain": [
       "quarter             0\n",
       "duration            0\n",
       "rectype             0\n",
       "bill_spec           0\n",
       "pos                 0\n",
       "der_sex             0\n",
       "formulary           0\n",
       "paid                0\n",
       "copay               0\n",
       "dispense_fee        0\n",
       "target              0\n",
       "pat_age          1862\n",
       "age_group       33719\n",
       "dtype: int64"
      ]
     },
     "metadata": {},
     "output_type": "display_data"
    }
   ],
   "source": [
    "d_train.isnull().sum().sort_values()"
   ]
  },
  {
   "cell_type": "code",
   "execution_count": 105,
   "metadata": {},
   "outputs": [],
   "source": [
    "# categorical data\n",
    "cat_cols=np.array(d_train.columns[d_train.dtypes == object])\n",
    "\n",
    "for feature in cat_cols:\n",
    "    d_train[feature].fillna(d_train[feature].mode()[0], inplace=True)\n",
    "\n",
    "# categorical data\n",
    "num_cols=np.array(d_train.columns[d_train.dtypes != object])\n",
    "for feature in num_cols:\n",
    "    d_train = d_train.fillna(0)\n",
    "\n",
    "    \n",
    "d_train = d_train.fillna(\"Other\")"
   ]
  },
  {
   "cell_type": "code",
   "execution_count": 106,
   "metadata": {},
   "outputs": [
    {
     "name": "stdout",
     "output_type": "stream",
     "text": [
      "<class 'pandas.core.frame.DataFrame'>\n",
      "RangeIndex: 1385440 entries, 0 to 1385439\n",
      "Data columns (total 13 columns):\n",
      " #   Column        Non-Null Count    Dtype  \n",
      "---  ------        --------------    -----  \n",
      " 0   quarter       1385440 non-null  int64  \n",
      " 1   duration      1385440 non-null  object \n",
      " 2   rectype       1385440 non-null  object \n",
      " 3   bill_spec     1385440 non-null  object \n",
      " 4   pos           1385440 non-null  object \n",
      " 5   der_sex       1385440 non-null  object \n",
      " 6   pat_age       1385440 non-null  float64\n",
      " 7   age_group     1385440 non-null  object \n",
      " 8   formulary     1385440 non-null  object \n",
      " 9   paid          1385440 non-null  float64\n",
      " 10  copay         1385440 non-null  float64\n",
      " 11  dispense_fee  1385440 non-null  float64\n",
      " 12  target        1385440 non-null  float64\n",
      "dtypes: float64(5), int64(1), object(7)\n",
      "memory usage: 137.4+ MB\n"
     ]
    }
   ],
   "source": [
    "d_train.info()"
   ]
  },
  {
   "cell_type": "code",
   "execution_count": 107,
   "metadata": {},
   "outputs": [],
   "source": [
    "d_train = d_train.drop(['paid','copay','dispense_fee'], axis=1)"
   ]
  },
  {
   "cell_type": "code",
   "execution_count": 108,
   "metadata": {},
   "outputs": [],
   "source": [
    "d_train[\"quarter\"] = d_train[\"quarter\"].astype(\"str\")"
   ]
  },
  {
   "cell_type": "code",
   "execution_count": 109,
   "metadata": {},
   "outputs": [
    {
     "name": "stdout",
     "output_type": "stream",
     "text": [
      "<class 'pandas.core.frame.DataFrame'>\n",
      "RangeIndex: 1385440 entries, 0 to 1385439\n",
      "Data columns (total 10 columns):\n",
      " #   Column     Non-Null Count    Dtype  \n",
      "---  ------     --------------    -----  \n",
      " 0   quarter    1385440 non-null  object \n",
      " 1   duration   1385440 non-null  object \n",
      " 2   rectype    1385440 non-null  object \n",
      " 3   bill_spec  1385440 non-null  object \n",
      " 4   pos        1385440 non-null  object \n",
      " 5   der_sex    1385440 non-null  object \n",
      " 6   pat_age    1385440 non-null  float64\n",
      " 7   age_group  1385440 non-null  object \n",
      " 8   formulary  1385440 non-null  object \n",
      " 9   target     1385440 non-null  float64\n",
      "dtypes: float64(2), object(8)\n",
      "memory usage: 105.7+ MB\n"
     ]
    }
   ],
   "source": [
    "d_train.info()"
   ]
  },
  {
   "cell_type": "code",
   "execution_count": 110,
   "metadata": {},
   "outputs": [],
   "source": [
    "df_train = pd.get_dummies(d_train)"
   ]
  },
  {
   "cell_type": "code",
   "execution_count": 111,
   "metadata": {},
   "outputs": [
    {
     "data": {
      "text/plain": [
       "pat_age        0\n",
       "target         0\n",
       "quarter_1      0\n",
       "quarter_2      0\n",
       "quarter_3      0\n",
       "              ..\n",
       "formulary_-    0\n",
       "formulary_F    0\n",
       "formulary_N    0\n",
       "formulary_U    0\n",
       "formulary_Y    0\n",
       "Length: 173, dtype: int64"
      ]
     },
     "metadata": {},
     "output_type": "display_data"
    }
   ],
   "source": [
    "df_train.isnull().sum()"
   ]
  },
  {
   "cell_type": "code",
   "execution_count": 112,
   "metadata": {},
   "outputs": [],
   "source": [
    "from sklearn.preprocessing import MinMaxScaler\n",
    "from sklearn.preprocessing import StandardScaler\n",
    "from sklearn.preprocessing import QuantileTransformer # Try\n",
    "from sklearn.preprocessing import RobustScaler\n",
    "#  Need to determine the scaler\n",
    "#scaler = MinMaxScaler(feature_range=(0, 1))\n",
    "\n",
    "scaler = RobustScaler()\n",
    "df_train['target'] = scaler.fit_transform(df_train['target'].values.reshape(-1,1))\n",
    "df_train['pat_age'] = scaler.fit_transform(df_train['pat_age'].values.reshape(-1,1))"
   ]
  },
  {
   "cell_type": "code",
   "execution_count": 113,
   "metadata": {},
   "outputs": [],
   "source": [
    "import torch\n",
    "y=torch.tensor(df_train['target'].values,dtype=torch.float).reshape(-1,1)"
   ]
  },
  {
   "cell_type": "code",
   "execution_count": 114,
   "metadata": {},
   "outputs": [],
   "source": [
    "batch_size=50000\n",
    "test_size=int(batch_size*0.15)\n",
    "train=df_train[:batch_size-test_size]\n",
    "test=df_train[batch_size-test_size:batch_size]\n",
    "y_train=y[:batch_size-test_size]\n",
    "y_test=y[batch_size-test_size:batch_size]"
   ]
  },
  {
   "cell_type": "code",
   "execution_count": 115,
   "metadata": {},
   "outputs": [],
   "source": [
    "X = train.drop(columns=['target']).values\n",
    "y = train[\"target\"]\n",
    "Z = test.values"
   ]
  },
  {
   "cell_type": "code",
   "execution_count": 116,
   "metadata": {},
   "outputs": [],
   "source": [
    "from sklearn import metrics\n",
    "from sklearn import model_selection\n",
    "from sklearn import preprocessing\n",
    "from sklearn.datasets import make_classification\n",
    "from sklearn.ensemble import ExtraTreesRegressor\n",
    "from sklearn.ensemble import GradientBoostingRegressor\n",
    "from sklearn.ensemble import RandomForestRegressor\n",
    "from sklearn.metrics import accuracy_score\n",
    "from sklearn.metrics import classification_report, confusion_matrix\n",
    "from sklearn.metrics import mean_squared_error, mean_absolute_error\n",
    "from sklearn.metrics import plot_confusion_matrix\n",
    "from sklearn.model_selection import cross_val_score\n",
    "from sklearn.model_selection import train_test_split\n",
    "from sklearn.neighbors import KNeighborsRegressor\n",
    "from sklearn.tree import DecisionTreeRegressor\n",
    "from xgboost.sklearn import XGBRegressor\n",
    "from catboost import CatBoostRegressor\n",
    "from sklearn.ensemble import GradientBoostingRegressor,AdaBoostRegressor,BaggingRegressor, RandomForestRegressor\n",
    "import xgboost as xgb\n",
    "import lightgbm as lgb"
   ]
  },
  {
   "cell_type": "code",
   "execution_count": 117,
   "metadata": {},
   "outputs": [],
   "source": [
    "X_train, X_test, y_train, y_test = train_test_split(X, y, test_size = 0.00001, random_state = 12)\n",
    "X_train1, X_test1, y_train1, y_test1 = train_test_split(X, y, test_size = 0.25, random_state = 12)"
   ]
  },
  {
   "cell_type": "code",
   "execution_count": 118,
   "metadata": {},
   "outputs": [],
   "source": [
    "def Errors(model, X_train, y_train, X_test, y_test):\n",
    "    ATrS =  model.score(X_train,y_train)\n",
    "    ATeS = model.score(X_test,y_test)\n",
    "    RMSE = np.sqrt(metrics.mean_squared_error(y_test, y_pred))\n",
    "    MSE = mean_squared_error(y_test, y_pred)\n",
    "    return ATrS, ATeS, RMSE, MSE"
   ]
  },
  {
   "cell_type": "code",
   "execution_count": 119,
   "metadata": {},
   "outputs": [
    {
     "data": {
      "text/html": [
       "<div>\n",
       "<style scoped>\n",
       "    .dataframe tbody tr th:only-of-type {\n",
       "        vertical-align: middle;\n",
       "    }\n",
       "\n",
       "    .dataframe tbody tr th {\n",
       "        vertical-align: top;\n",
       "    }\n",
       "\n",
       "    .dataframe thead th {\n",
       "        text-align: right;\n",
       "    }\n",
       "</style>\n",
       "<table border=\"1\" class=\"dataframe\">\n",
       "  <thead>\n",
       "    <tr style=\"text-align: right;\">\n",
       "      <th></th>\n",
       "      <th>model</th>\n",
       "      <th>Root Mean Squared  Error</th>\n",
       "      <th>Accuracy on Training set</th>\n",
       "      <th>Accuracy on Testing set</th>\n",
       "      <th>Mean square error</th>\n",
       "    </tr>\n",
       "  </thead>\n",
       "  <tbody>\n",
       "    <tr>\n",
       "      <th>3</th>\n",
       "      <td>LGBMRegressor</td>\n",
       "      <td>17.595724</td>\n",
       "      <td>0.327347</td>\n",
       "      <td>0.121218</td>\n",
       "      <td>309.609488</td>\n",
       "    </tr>\n",
       "    <tr>\n",
       "      <th>2</th>\n",
       "      <td>CatBoostRegressor</td>\n",
       "      <td>17.845581</td>\n",
       "      <td>0.466345</td>\n",
       "      <td>0.096084</td>\n",
       "      <td>318.464771</td>\n",
       "    </tr>\n",
       "    <tr>\n",
       "      <th>4</th>\n",
       "      <td>GradientBoostingRegressor</td>\n",
       "      <td>18.162937</td>\n",
       "      <td>0.293123</td>\n",
       "      <td>0.063649</td>\n",
       "      <td>329.892292</td>\n",
       "    </tr>\n",
       "    <tr>\n",
       "      <th>1</th>\n",
       "      <td>XGBRegressor</td>\n",
       "      <td>18.859992</td>\n",
       "      <td>0.497282</td>\n",
       "      <td>-0.009601</td>\n",
       "      <td>355.699295</td>\n",
       "    </tr>\n",
       "    <tr>\n",
       "      <th>0</th>\n",
       "      <td>DecisionTreeRegressor</td>\n",
       "      <td>20.547922</td>\n",
       "      <td>0.538054</td>\n",
       "      <td>-0.198402</td>\n",
       "      <td>422.217085</td>\n",
       "    </tr>\n",
       "    <tr>\n",
       "      <th>5</th>\n",
       "      <td>ExtraTreesRegressor</td>\n",
       "      <td>22.452710</td>\n",
       "      <td>0.538054</td>\n",
       "      <td>-0.430884</td>\n",
       "      <td>504.124202</td>\n",
       "    </tr>\n",
       "  </tbody>\n",
       "</table>\n",
       "</div>"
      ]
     },
     "metadata": {},
     "output_type": "display_data"
    }
   ],
   "source": [
    "Acc = pd.DataFrame(index=None, columns=['model','Root Mean Squared  Error','Accuracy on Training set','Accuracy on Testing set', 'Mean square error'])\n",
    "regressors = [['DecisionTreeRegressor',DecisionTreeRegressor()],\n",
    "              ['XGBRegressor', XGBRegressor()],\n",
    "              ['CatBoostRegressor', CatBoostRegressor(verbose= False)],\n",
    "              ['LGBMRegressor',lgb.LGBMRegressor()],\n",
    "              ['GradientBoostingRegressor',GradientBoostingRegressor()],\n",
    "              ['ExtraTreesRegressor',ExtraTreesRegressor()]]\n",
    "\n",
    "for mod in regressors:\n",
    "    name = mod[0]\n",
    "    model = mod[1]\n",
    "    model.fit(X_train1,y_train1)\n",
    "    y_pred = model.predict(X_test1)\n",
    "    ATrS, ATeS, RMSE, MSE = Errors(model, X_train1, y_train1, X_test1, y_test1)\n",
    "    Acc = Acc.append(pd.Series({'model':name, 'Root Mean Squared  Error': RMSE,'Accuracy on Training set':ATrS,'Accuracy on Testing set':ATeS, 'Mean square error':MSE}),ignore_index=True )\n",
    "    \n",
    "Acc.sort_values(by='Mean square error')"
   ]
  },
  {
   "cell_type": "code",
   "execution_count": 119,
   "metadata": {},
   "outputs": [],
   "source": []
  },
  {
   "cell_type": "code",
   "execution_count": 120,
   "metadata": {},
   "outputs": [],
   "source": [
    "import numpy as np # linear algebra\n",
    "import pandas as pd # data processing, CSV file I/O (e.g. pd.read_csv)\n",
    "import seaborn as sns\n",
    "import matplotlib.pyplot as plt\n",
    "import plotly.graph_objects as go\n",
    "import matplotlib.style as style\n",
    "import plotly.express as px\n",
    "import warnings\n",
    "warnings.filterwarnings('ignore')"
   ]
  },
  {
   "cell_type": "markdown",
   "metadata": {},
   "source": [
    "## Data Loading"
   ]
  },
  {
   "cell_type": "code",
   "execution_count": 121,
   "metadata": {},
   "outputs": [],
   "source": [
    "DATA_PATH='/data/workspace_files/iqvia_data/clean/model_input.csv'"
   ]
  },
  {
   "cell_type": "code",
   "execution_count": 122,
   "metadata": {},
   "outputs": [],
   "source": [
    "df = pd.read_csv(DATA_PATH,delimiter=\"|\", usecols=[\"quarter\",\"duration\",\"rectype\",\"pos\",\"pat_age\", \"der_sex\",\"dispense_fee\",\"copay\", \"paid\",\"age_group\",\"bill_spec\",\"formulary\"])"
   ]
  },
  {
   "cell_type": "code",
   "execution_count": 123,
   "metadata": {},
   "outputs": [
    {
     "data": {
      "text/html": [
       "<div>\n",
       "<style scoped>\n",
       "    .dataframe tbody tr th:only-of-type {\n",
       "        vertical-align: middle;\n",
       "    }\n",
       "\n",
       "    .dataframe tbody tr th {\n",
       "        vertical-align: top;\n",
       "    }\n",
       "\n",
       "    .dataframe thead th {\n",
       "        text-align: right;\n",
       "    }\n",
       "</style>\n",
       "<table border=\"1\" class=\"dataframe\">\n",
       "  <thead>\n",
       "    <tr style=\"text-align: right;\">\n",
       "      <th></th>\n",
       "      <th>count</th>\n",
       "      <th>unique</th>\n",
       "      <th>top</th>\n",
       "      <th>freq</th>\n",
       "      <th>mean</th>\n",
       "      <th>std</th>\n",
       "      <th>min</th>\n",
       "      <th>25%</th>\n",
       "      <th>50%</th>\n",
       "      <th>75%</th>\n",
       "      <th>max</th>\n",
       "    </tr>\n",
       "  </thead>\n",
       "  <tbody>\n",
       "    <tr>\n",
       "      <th>quarter</th>\n",
       "      <td>1385440.0</td>\n",
       "      <td>NaN</td>\n",
       "      <td>NaN</td>\n",
       "      <td>NaN</td>\n",
       "      <td>2.522277</td>\n",
       "      <td>1.126725</td>\n",
       "      <td>1.0</td>\n",
       "      <td>2.0</td>\n",
       "      <td>3.0</td>\n",
       "      <td>4.0</td>\n",
       "      <td>4.0</td>\n",
       "    </tr>\n",
       "    <tr>\n",
       "      <th>duration</th>\n",
       "      <td>1385440</td>\n",
       "      <td>5</td>\n",
       "      <td>&lt;7</td>\n",
       "      <td>1381887</td>\n",
       "      <td>NaN</td>\n",
       "      <td>NaN</td>\n",
       "      <td>NaN</td>\n",
       "      <td>NaN</td>\n",
       "      <td>NaN</td>\n",
       "      <td>NaN</td>\n",
       "      <td>NaN</td>\n",
       "    </tr>\n",
       "    <tr>\n",
       "      <th>rectype</th>\n",
       "      <td>1385440</td>\n",
       "      <td>6</td>\n",
       "      <td>A</td>\n",
       "      <td>572658</td>\n",
       "      <td>NaN</td>\n",
       "      <td>NaN</td>\n",
       "      <td>NaN</td>\n",
       "      <td>NaN</td>\n",
       "      <td>NaN</td>\n",
       "      <td>NaN</td>\n",
       "      <td>NaN</td>\n",
       "    </tr>\n",
       "    <tr>\n",
       "      <th>bill_spec</th>\n",
       "      <td>1385440</td>\n",
       "      <td>64</td>\n",
       "      <td>-</td>\n",
       "      <td>450310</td>\n",
       "      <td>NaN</td>\n",
       "      <td>NaN</td>\n",
       "      <td>NaN</td>\n",
       "      <td>NaN</td>\n",
       "      <td>NaN</td>\n",
       "      <td>NaN</td>\n",
       "      <td>NaN</td>\n",
       "    </tr>\n",
       "    <tr>\n",
       "      <th>pos</th>\n",
       "      <td>1385440</td>\n",
       "      <td>75</td>\n",
       "      <td>11</td>\n",
       "      <td>306231</td>\n",
       "      <td>NaN</td>\n",
       "      <td>NaN</td>\n",
       "      <td>NaN</td>\n",
       "      <td>NaN</td>\n",
       "      <td>NaN</td>\n",
       "      <td>NaN</td>\n",
       "      <td>NaN</td>\n",
       "    </tr>\n",
       "    <tr>\n",
       "      <th>der_sex</th>\n",
       "      <td>1385440</td>\n",
       "      <td>3</td>\n",
       "      <td>F</td>\n",
       "      <td>857599</td>\n",
       "      <td>NaN</td>\n",
       "      <td>NaN</td>\n",
       "      <td>NaN</td>\n",
       "      <td>NaN</td>\n",
       "      <td>NaN</td>\n",
       "      <td>NaN</td>\n",
       "      <td>NaN</td>\n",
       "    </tr>\n",
       "    <tr>\n",
       "      <th>pat_age</th>\n",
       "      <td>1383578.0</td>\n",
       "      <td>NaN</td>\n",
       "      <td>NaN</td>\n",
       "      <td>NaN</td>\n",
       "      <td>86.702111</td>\n",
       "      <td>295.872849</td>\n",
       "      <td>-1.0</td>\n",
       "      <td>26.0</td>\n",
       "      <td>46.0</td>\n",
       "      <td>59.0</td>\n",
       "      <td>2017.0</td>\n",
       "    </tr>\n",
       "    <tr>\n",
       "      <th>age_group</th>\n",
       "      <td>1351721</td>\n",
       "      <td>9</td>\n",
       "      <td>51-60</td>\n",
       "      <td>289115</td>\n",
       "      <td>NaN</td>\n",
       "      <td>NaN</td>\n",
       "      <td>NaN</td>\n",
       "      <td>NaN</td>\n",
       "      <td>NaN</td>\n",
       "      <td>NaN</td>\n",
       "      <td>NaN</td>\n",
       "    </tr>\n",
       "    <tr>\n",
       "      <th>formulary</th>\n",
       "      <td>1385440</td>\n",
       "      <td>5</td>\n",
       "      <td>-</td>\n",
       "      <td>1158635</td>\n",
       "      <td>NaN</td>\n",
       "      <td>NaN</td>\n",
       "      <td>NaN</td>\n",
       "      <td>NaN</td>\n",
       "      <td>NaN</td>\n",
       "      <td>NaN</td>\n",
       "      <td>NaN</td>\n",
       "    </tr>\n",
       "    <tr>\n",
       "      <th>paid</th>\n",
       "      <td>1385440.0</td>\n",
       "      <td>NaN</td>\n",
       "      <td>NaN</td>\n",
       "      <td>NaN</td>\n",
       "      <td>107.425354</td>\n",
       "      <td>1175.263649</td>\n",
       "      <td>-3087.84</td>\n",
       "      <td>0.0</td>\n",
       "      <td>12.47</td>\n",
       "      <td>57.67</td>\n",
       "      <td>709682.55</td>\n",
       "    </tr>\n",
       "    <tr>\n",
       "      <th>copay</th>\n",
       "      <td>1385440.0</td>\n",
       "      <td>NaN</td>\n",
       "      <td>NaN</td>\n",
       "      <td>NaN</td>\n",
       "      <td>2.61997</td>\n",
       "      <td>98.791536</td>\n",
       "      <td>-8126.3</td>\n",
       "      <td>0.0</td>\n",
       "      <td>0.0</td>\n",
       "      <td>0.0</td>\n",
       "      <td>30975.0</td>\n",
       "    </tr>\n",
       "    <tr>\n",
       "      <th>dispense_fee</th>\n",
       "      <td>1385440.0</td>\n",
       "      <td>NaN</td>\n",
       "      <td>NaN</td>\n",
       "      <td>NaN</td>\n",
       "      <td>0.052732</td>\n",
       "      <td>0.36989</td>\n",
       "      <td>-1.5</td>\n",
       "      <td>0.0</td>\n",
       "      <td>0.0</td>\n",
       "      <td>0.0</td>\n",
       "      <td>18.0</td>\n",
       "    </tr>\n",
       "  </tbody>\n",
       "</table>\n",
       "</div>"
      ]
     },
     "metadata": {},
     "output_type": "display_data"
    }
   ],
   "source": [
    "df.describe(include='all').T"
   ]
  },
  {
   "cell_type": "code",
   "execution_count": 124,
   "metadata": {},
   "outputs": [
    {
     "name": "stdout",
     "output_type": "stream",
     "text": [
      "Column name quarter and unique values are 4\n",
      "Column name duration and unique values are 5\n",
      "Column name rectype and unique values are 6\n",
      "Column name bill_spec and unique values are 64\n",
      "Column name pos and unique values are 75\n",
      "Column name der_sex and unique values are 3\n",
      "Column name pat_age and unique values are 88\n",
      "Column name age_group and unique values are 10\n",
      "Column name formulary and unique values are 5\n",
      "Column name paid and unique values are 61823\n",
      "Column name copay and unique values are 5974\n",
      "Column name dispense_fee and unique values are 91\n"
     ]
    }
   ],
   "source": [
    "for i in df.columns:\n",
    "    print(\"Column name {} and unique values are {}\".format(i,len(df[i].unique())))"
   ]
  },
  {
   "cell_type": "code",
   "execution_count": 125,
   "metadata": {},
   "outputs": [
    {
     "name": "stdout",
     "output_type": "stream",
     "text": [
      "<class 'pandas.core.frame.DataFrame'>\n",
      "RangeIndex: 1385440 entries, 0 to 1385439\n",
      "Data columns (total 12 columns):\n",
      " #   Column        Non-Null Count    Dtype  \n",
      "---  ------        --------------    -----  \n",
      " 0   quarter       1385440 non-null  int64  \n",
      " 1   duration      1385440 non-null  object \n",
      " 2   rectype       1385440 non-null  object \n",
      " 3   bill_spec     1385440 non-null  object \n",
      " 4   pos           1385440 non-null  object \n",
      " 5   der_sex       1385440 non-null  object \n",
      " 6   pat_age       1383578 non-null  float64\n",
      " 7   age_group     1351721 non-null  object \n",
      " 8   formulary     1385440 non-null  object \n",
      " 9   paid          1385440 non-null  float64\n",
      " 10  copay         1385440 non-null  float64\n",
      " 11  dispense_fee  1385440 non-null  float64\n",
      "dtypes: float64(4), int64(1), object(7)\n",
      "memory usage: 126.8+ MB\n"
     ]
    }
   ],
   "source": [
    "df.info()"
   ]
  },
  {
   "cell_type": "code",
   "execution_count": 126,
   "metadata": {},
   "outputs": [],
   "source": [
    "# Create a column that represents the total cost = paid + copay + dispense_fee\n",
    "target_columns = ['paid', 'copay', 'dispense_fee']\n",
    "df['target'] = (df.loc[:, target_columns]).sum(axis='columns')"
   ]
  },
  {
   "cell_type": "markdown",
   "metadata": {},
   "source": [
    "### Categorical Features"
   ]
  },
  {
   "cell_type": "code",
   "execution_count": 127,
   "metadata": {},
   "outputs": [
    {
     "data": {
      "text/plain": [
       "['quarter',\n",
       " 'duration',\n",
       " 'rectype',\n",
       " 'bill_spec',\n",
       " 'pos',\n",
       " 'der_sex',\n",
       " 'age_group',\n",
       " 'formulary']"
      ]
     },
     "metadata": {},
     "output_type": "display_data"
    }
   ],
   "source": [
    "cat_features=[\"quarter\",\"duration\",\"rectype\",\"bill_spec\", \"pos\",\"der_sex\",\"age_group\",\"formulary\"]\n",
    "out_feature=\"target\"\n",
    "cat_features"
   ]
  },
  {
   "cell_type": "code",
   "execution_count": 128,
   "metadata": {},
   "outputs": [],
   "source": [
    "df[\"pos\"] = df[\"pos\"].astype(\"str\")"
   ]
  },
  {
   "cell_type": "markdown",
   "metadata": {},
   "source": [
    "### Label Encoding of Categorical Features"
   ]
  },
  {
   "cell_type": "code",
   "execution_count": 129,
   "metadata": {},
   "outputs": [
    {
     "name": "stdout",
     "output_type": "stream",
     "text": [
      "quarter\n",
      "duration\n",
      "rectype\n",
      "bill_spec\n",
      "pos\n",
      "der_sex\n",
      "age_group\n",
      "formulary\n"
     ]
    }
   ],
   "source": [
    "from sklearn.preprocessing import LabelEncoder\n",
    "lbl_encoders={}\n",
    "for feature in cat_features:\n",
    "    print(feature)\n",
    "    lbl_encoders[feature]=LabelEncoder()\n",
    "    df[feature]=lbl_encoders[feature].fit_transform(df[feature])"
   ]
  },
  {
   "cell_type": "markdown",
   "metadata": {},
   "source": [
    "### Scaling Numerical & Target columns"
   ]
  },
  {
   "cell_type": "code",
   "execution_count": 130,
   "metadata": {},
   "outputs": [
    {
     "data": {
      "image/png": "[encoded data removed]",
      "text/plain": [
       "<AxesSubplot:title={'center':'Distribution of Charges'}, xlabel='target', ylabel='Density'>"
      ]
     },
     "metadata": {
      "image/png": {
       "height": 0,
       "width": 0
      }
     },
     "output_type": "display_data"
    }
   ],
   "source": [
    "from sklearn.preprocessing import MinMaxScaler\n",
    "from sklearn.preprocessing import StandardScaler\n",
    "from sklearn.preprocessing import QuantileTransformer # Try\n",
    "from sklearn.preprocessing import RobustScaler\n",
    "#  Need to determine the scaler\n",
    "#scaler = MinMaxScaler(feature_range=(0, 1))\n",
    "\n",
    "scaler = RobustScaler()\n",
    "df['target'] = scaler.fit_transform(df['target'].values.reshape(-1,1))\n",
    "df['pat_age'] = scaler.fit_transform(df['pat_age'].values.reshape(-1,1))\n",
    "plt.title(\"Distribution of Charges\")\n",
    "sns.kdeplot(df['target'])"
   ]
  },
  {
   "cell_type": "code",
   "execution_count": 131,
   "metadata": {},
   "outputs": [],
   "source": [
    "def find_outliers_claims(x):\n",
    "    q1 = np.percentile(x,25)\n",
    "    q3 = np.percentile(x,75)\n",
    "    iqr = q3-q1\n",
    "    floor = q1 - 1.5*iqr\n",
    "    ceiling = q3 + 1.5*iqr\n",
    "    outlier_indices = list(x.index[(x<floor) | (x > ceiling)])\n",
    "    outlier_values = list(x[outlier_indices])\n",
    "    return outlier_indices, outlier_values"
   ]
  },
  {
   "cell_type": "code",
   "execution_count": 132,
   "metadata": {},
   "outputs": [
    {
     "data": {
      "text/plain": [
       "array([[0, 4, 3, ..., 0, 1, 0],\n",
       "       [0, 4, 3, ..., 0, 1, 0],\n",
       "       [0, 4, 3, ..., 0, 1, 0],\n",
       "       ...,\n",
       "       [3, 4, 0, ..., 1, 5, 4],\n",
       "       [3, 4, 4, ..., 1, 5, 4],\n",
       "       [3, 4, 4, ..., 1, 5, 4]])"
      ]
     },
     "metadata": {},
     "output_type": "display_data"
    }
   ],
   "source": [
    "\n",
    "### Stacking and Converting Into Tensors\n",
    "#[\"der_sex\",\"pos\",\"diag_admit\",\"diag1\",\"diag2\",\"diag3\",\"ndc\",\"rectype\",\"tos_flag\",\"pat_region\",\"pat_state\",\"prscbr_spec\"]\n",
    "cat_features=np.stack([df['quarter'],df['duration'],df['rectype'],df['bill_spec'],df['pos'],df['der_sex'],df['age_group'],df['formulary']],1)\n",
    "\n",
    "cat_features"
   ]
  },
  {
   "cell_type": "markdown",
   "metadata": {},
   "source": [
    "### Convert Category Features to Torch Tensors"
   ]
  },
  {
   "cell_type": "code",
   "execution_count": 133,
   "metadata": {},
   "outputs": [
    {
     "data": {
      "text/plain": [
       "tensor([[0, 4, 3,  ..., 0, 1, 0],\n",
       "        [0, 4, 3,  ..., 0, 1, 0],\n",
       "        [0, 4, 3,  ..., 0, 1, 0],\n",
       "        ...,\n",
       "        [3, 4, 0,  ..., 1, 5, 4],\n",
       "        [3, 4, 4,  ..., 1, 5, 4],\n",
       "        [3, 4, 4,  ..., 1, 5, 4]])"
      ]
     },
     "metadata": {},
     "output_type": "display_data"
    }
   ],
   "source": [
    "### Convert numpy to Tensors\n",
    "import torch\n",
    "cat_features=torch.tensor(cat_features,dtype=torch.int64)\n",
    "cat_features"
   ]
  },
  {
   "cell_type": "code",
   "execution_count": 134,
   "metadata": {},
   "outputs": [],
   "source": [
    "df[\"target\"] = df[\"target\"].astype(\"float\")\n",
    "df[\"pat_age\"] = df[\"pat_age\"].astype(\"float\")\n",
    "df[\"pat_age\"].fillna(0)\n",
    "cont_features=[]\n",
    "\n",
    "for i in df.columns:\n",
    "    if i in [\"pat_age\"]:\n",
    "        cont_features.append(i)\n",
    "    else:\n",
    "        pass"
   ]
  },
  {
   "cell_type": "markdown",
   "metadata": {},
   "source": [
    "\n",
    "### Stacking continuous variable to a tensor"
   ]
  },
  {
   "cell_type": "code",
   "execution_count": 135,
   "metadata": {},
   "outputs": [
    {
     "data": {
      "text/plain": [
       "tensor([[-0.8182],\n",
       "        [-0.8182],\n",
       "        [-0.8182],\n",
       "        ...,\n",
       "        [ 0.2121],\n",
       "        [ 0.2121],\n",
       "        [ 0.2121]])"
      ]
     },
     "metadata": {},
     "output_type": "display_data"
    }
   ],
   "source": [
    "\n",
    "cont_values=np.stack([df[i].values for i in cont_features],axis=1)\n",
    "cont_values=torch.tensor(cont_values,dtype=torch.float)\n",
    "cont_values"
   ]
  },
  {
   "cell_type": "markdown",
   "metadata": {},
   "source": [
    "### Dependent Feature "
   ]
  },
  {
   "cell_type": "code",
   "execution_count": 136,
   "metadata": {},
   "outputs": [
    {
     "data": {
      "text/plain": [
       "tensor([[-0.2303],\n",
       "        [-0.2303],\n",
       "        [-0.2303],\n",
       "        ...,\n",
       "        [ 0.0000],\n",
       "        [-0.1652],\n",
       "        [ 8.6784]])"
      ]
     },
     "metadata": {},
     "output_type": "display_data"
    }
   ],
   "source": [
    "\n",
    "y=torch.tensor(df['target'].values,dtype=torch.float).reshape(-1,1)\n",
    "y"
   ]
  },
  {
   "cell_type": "code",
   "execution_count": 137,
   "metadata": {},
   "outputs": [
    {
     "data": {
      "text/plain": [
       "(torch.Size([1385440, 8]), torch.Size([1385440, 1]), torch.Size([1385440, 1]))"
      ]
     },
     "metadata": {},
     "output_type": "display_data"
    }
   ],
   "source": [
    "cat_features.shape,cont_values.shape,y.shape"
   ]
  },
  {
   "cell_type": "markdown",
   "metadata": {},
   "source": [
    "#### Embedding Size For Categorical columns"
   ]
  },
  {
   "cell_type": "code",
   "execution_count": 138,
   "metadata": {},
   "outputs": [],
   "source": [
    "cat_dims=[len(df[col].unique()) for col in [\"quarter\", \"duration\",\"rectype\",\"bill_spec\",\"pos\",\"der_sex\",\"age_group\",\"formulary\"]]"
   ]
  },
  {
   "cell_type": "code",
   "execution_count": 139,
   "metadata": {},
   "outputs": [
    {
     "data": {
      "text/plain": [
       "[4, 5, 6, 64, 43, 3, 10, 5]"
      ]
     },
     "metadata": {},
     "output_type": "display_data"
    }
   ],
   "source": [
    "cat_dims"
   ]
  },
  {
   "cell_type": "code",
   "execution_count": 140,
   "metadata": {},
   "outputs": [],
   "source": [
    "embedding_dim= [(x, min(50, (x + 1) // 2)) for x in cat_dims]"
   ]
  },
  {
   "cell_type": "code",
   "execution_count": 141,
   "metadata": {},
   "outputs": [
    {
     "data": {
      "text/plain": [
       "[(4, 2), (5, 3), (6, 3), (64, 32), (43, 22), (3, 2), (10, 5), (5, 3)]"
      ]
     },
     "metadata": {},
     "output_type": "display_data"
    }
   ],
   "source": [
    "embedding_dim"
   ]
  },
  {
   "cell_type": "markdown",
   "metadata": {},
   "source": [
    "### Defining the Embedding Layers"
   ]
  },
  {
   "cell_type": "code",
   "execution_count": 142,
   "metadata": {},
   "outputs": [
    {
     "data": {
      "text/plain": [
       "ModuleList(\n",
       "  (0): Embedding(4, 2)\n",
       "  (1): Embedding(5, 3)\n",
       "  (2): Embedding(6, 3)\n",
       "  (3): Embedding(64, 32)\n",
       "  (4): Embedding(43, 22)\n",
       "  (5): Embedding(3, 2)\n",
       "  (6): Embedding(10, 5)\n",
       "  (7): Embedding(5, 3)\n",
       ")"
      ]
     },
     "metadata": {},
     "output_type": "display_data"
    }
   ],
   "source": [
    "import torch\n",
    "import torch.nn as nn\n",
    "import torch.nn.functional as F\n",
    "embed_representation=nn.ModuleList([nn.Embedding(inp,out) for inp,out in embedding_dim])\n",
    "embed_representation"
   ]
  },
  {
   "cell_type": "code",
   "execution_count": 143,
   "metadata": {},
   "outputs": [],
   "source": [
    "embedding_val=[]\n",
    "for i,e in enumerate(embed_representation):\n",
    "    embedding_val.append(e(cat_features[:,i]))"
   ]
  },
  {
   "cell_type": "code",
   "execution_count": 144,
   "metadata": {},
   "outputs": [
    {
     "data": {
      "text/plain": [
       "tensor([[ 1.2535, -1.1342, -0.5808,  ..., -0.3446, -0.0203,  1.4724],\n",
       "        [ 1.2535, -1.1342, -0.5808,  ..., -0.3446, -0.0203,  1.4724],\n",
       "        [ 1.2535, -1.1342, -0.5808,  ..., -0.3446, -0.0203,  1.4724],\n",
       "        ...,\n",
       "        [ 0.0344,  0.5765, -0.5808,  ...,  1.6653,  0.5690,  1.3482],\n",
       "        [ 0.0344,  0.5765, -0.5808,  ...,  1.6653,  0.5690,  1.3482],\n",
       "        [ 0.0344,  0.5765, -0.5808,  ...,  1.6653,  0.5690,  1.3482]],\n",
       "       grad_fn=<CatBackward>)"
      ]
     },
     "metadata": {},
     "output_type": "display_data"
    }
   ],
   "source": [
    "z = torch.cat(embedding_val, 1)\n",
    "z"
   ]
  },
  {
   "cell_type": "code",
   "execution_count": 145,
   "metadata": {},
   "outputs": [
    {
     "data": {
      "text/plain": [
       "torch.Size([1385440, 72])"
      ]
     },
     "metadata": {},
     "output_type": "display_data"
    }
   ],
   "source": [
    "\n",
    "final_embed=z\n",
    "final_embed.shape"
   ]
  },
  {
   "cell_type": "code",
   "execution_count": 146,
   "metadata": {},
   "outputs": [
    {
     "data": {
      "image/png": "[encoded data removed]"
     },
     "metadata": {
      "image/png": {
       "height": 0,
       "width": 0
      }
     },
     "output_type": "display_data"
    }
   ],
   "source": [
    "from IPython.display import Image\n",
    "Image(filename='img/heap-dl.png')"
   ]
  },
  {
   "cell_type": "markdown",
   "metadata": {},
   "source": [
    "\n",
    "HEAP-DL has four hidden layers each having 50 neurons each. All layers uses a ReLU-activation step, BatchNorm1D also acts as a regularization step and a dropout rate of 0.2 during training. The categorical features were converted into feature embeddings and passed to the layer and there is a drop out of 0.2 applied to the embedding. The predicted target variable is a transformed sum value of paid, dispense and copay. The model was trained for 200 epochs and RMSE score, Target columns a derived numerical values which is  a sum of claims paid amount, pharmacy dispense_fee & patient copay since these are assumed to be the direct cost for the payer as per the IQVIA Pharmetrics data dictionary and user guide."
   ]
  },
  {
   "cell_type": "markdown",
   "metadata": {},
   "source": [
    "### Create a Feed Forward Neural Network"
   ]
  },
  {
   "cell_type": "code",
   "execution_count": 147,
   "metadata": {},
   "outputs": [],
   "source": [
    "\n",
    "import torch\n",
    "import torch.nn as nn\n",
    "import torch.nn.functional as F\n",
    "class FeedForwardNN(nn.Module):\n",
    "\n",
    "    def __init__(self, embedding_dim, n_cont, out_sz, layers, p=0.5):\n",
    "        super().__init__()\n",
    "        self.embeds = nn.ModuleList([nn.Embedding(inp,out) for inp,out in embedding_dim])\n",
    "        self.emb_drop = nn.Dropout(p)\n",
    "        self.bn_cont = nn.BatchNorm1d(n_cont)\n",
    "        \n",
    "        layerlist = []\n",
    "        n_emb = sum((out for inp,out in embedding_dim))\n",
    "        n_in = n_emb + n_cont\n",
    "        \n",
    "        for i in layers:\n",
    "            #Linear Layer\n",
    "            layerlist.append(nn.Linear(n_in,i)) \n",
    "            \n",
    "            #ReLU Activation Layer\n",
    "            layerlist.append(nn.ReLU(inplace=True))\n",
    "\n",
    "            #BatchNorm 1D Layer - Regularization\n",
    "            layerlist.append(nn.BatchNorm1d(i))\n",
    "            \n",
    "            #DropOut Layer\n",
    "            layerlist.append(nn.Dropout(p))\n",
    "            n_in = i\n",
    "        layerlist.append(nn.Linear(layers[-1],out_sz))\n",
    "            \n",
    "        self.layers = nn.Sequential(*layerlist)\n",
    "    \n",
    "    def forward(self, x_cat, x_cont):\n",
    "        embeddings = []\n",
    "        for i,e in enumerate(self.embeds):\n",
    "            embeddings.append(e(x_cat[:,i]))\n",
    "        x = torch.cat(embeddings, 1)\n",
    "        x = self.emb_drop(x)\n",
    "        \n",
    "        x_cont = self.bn_cont(x_cont)\n",
    "        x = torch.cat([x, x_cont], 1)\n",
    "        x = self.layers(x)\n",
    "        return x"
   ]
  },
  {
   "cell_type": "markdown",
   "metadata": {},
   "source": [
    "### Model Initialization"
   ]
  },
  {
   "cell_type": "code",
   "execution_count": 148,
   "metadata": {},
   "outputs": [],
   "source": [
    "torch.manual_seed(100)\n",
    "model=FeedForwardNN(embedding_dim,len(cont_features),1,[50,50,50,50],p=0.2)"
   ]
  },
  {
   "cell_type": "markdown",
   "metadata": {},
   "source": [
    "### HEAP-DL Model Summary"
   ]
  },
  {
   "cell_type": "code",
   "execution_count": 149,
   "metadata": {},
   "outputs": [
    {
     "data": {
      "text/plain": [
       "FeedForwardNN(\n",
       "  (embeds): ModuleList(\n",
       "    (0): Embedding(4, 2)\n",
       "    (1): Embedding(5, 3)\n",
       "    (2): Embedding(6, 3)\n",
       "    (3): Embedding(64, 32)\n",
       "    (4): Embedding(43, 22)\n",
       "    (5): Embedding(3, 2)\n",
       "    (6): Embedding(10, 5)\n",
       "    (7): Embedding(5, 3)\n",
       "  )\n",
       "  (emb_drop): Dropout(p=0.2, inplace=False)\n",
       "  (bn_cont): BatchNorm1d(1, eps=1e-05, momentum=0.1, affine=True, track_running_stats=True)\n",
       "  (layers): Sequential(\n",
       "    (0): Linear(in_features=73, out_features=50, bias=True)\n",
       "    (1): ReLU(inplace=True)\n",
       "    (2): BatchNorm1d(50, eps=1e-05, momentum=0.1, affine=True, track_running_stats=True)\n",
       "    (3): Dropout(p=0.2, inplace=False)\n",
       "    (4): Linear(in_features=50, out_features=50, bias=True)\n",
       "    (5): ReLU(inplace=True)\n",
       "    (6): BatchNorm1d(50, eps=1e-05, momentum=0.1, affine=True, track_running_stats=True)\n",
       "    (7): Dropout(p=0.2, inplace=False)\n",
       "    (8): Linear(in_features=50, out_features=50, bias=True)\n",
       "    (9): ReLU(inplace=True)\n",
       "    (10): BatchNorm1d(50, eps=1e-05, momentum=0.1, affine=True, track_running_stats=True)\n",
       "    (11): Dropout(p=0.2, inplace=False)\n",
       "    (12): Linear(in_features=50, out_features=50, bias=True)\n",
       "    (13): ReLU(inplace=True)\n",
       "    (14): BatchNorm1d(50, eps=1e-05, momentum=0.1, affine=True, track_running_stats=True)\n",
       "    (15): Dropout(p=0.2, inplace=False)\n",
       "    (16): Linear(in_features=50, out_features=1, bias=True)\n",
       "  )\n",
       ")"
      ]
     },
     "metadata": {},
     "output_type": "display_data"
    }
   ],
   "source": [
    "model"
   ]
  },
  {
   "cell_type": "markdown",
   "metadata": {},
   "source": [
    "### Loss Function and Optimizer"
   ]
  },
  {
   "cell_type": "code",
   "execution_count": 150,
   "metadata": {},
   "outputs": [],
   "source": [
    "loss_function=nn.MSELoss()\n",
    "optimizer=torch.optim.Adam(model.parameters(),lr=0.03)"
   ]
  },
  {
   "cell_type": "code",
   "execution_count": 151,
   "metadata": {},
   "outputs": [],
   "source": [
    "batch_size=50000\n",
    "test_size=int(batch_size*0.15)\n",
    "train_categorical=cat_features[:batch_size-test_size]\n",
    "test_categorical=cat_features[batch_size-test_size:batch_size]\n",
    "train_cont=cont_values[:batch_size-test_size]\n",
    "test_cont=cont_values[batch_size-test_size:batch_size]\n",
    "y_train=y[:batch_size-test_size]\n",
    "y_test=y[batch_size-test_size:batch_size]"
   ]
  },
  {
   "cell_type": "code",
   "execution_count": 152,
   "metadata": {},
   "outputs": [
    {
     "data": {
      "text/plain": [
       "(42500, 7500, 42500, 7500, 42500, 7500)"
      ]
     },
     "metadata": {},
     "output_type": "display_data"
    }
   ],
   "source": [
    "len(train_categorical),len(test_categorical),len(train_cont),len(test_cont),len(y_train),len(y_test)"
   ]
  },
  {
   "cell_type": "markdown",
   "metadata": {},
   "source": [
    "### HEAP-DL Model Training"
   ]
  },
  {
   "cell_type": "code",
   "execution_count": 153,
   "metadata": {},
   "outputs": [
    {
     "name": "stdout",
     "output_type": "stream",
     "text": [
      "Epoch number: 1 and the loss : 16.201570510864258\n",
      "Epoch number: 11 and the loss : 15.505757331848145\n",
      "Epoch number: 21 and the loss : 14.991905212402344\n",
      "Epoch number: 31 and the loss : 14.573301315307617\n",
      "Epoch number: 41 and the loss : 14.219799041748047\n",
      "Epoch number: 51 and the loss : 14.745573997497559\n",
      "Epoch number: 61 and the loss : 14.763226509094238\n",
      "Epoch number: 71 and the loss : 14.494644165039062\n",
      "Epoch number: 81 and the loss : 14.226590156555176\n",
      "Epoch number: 91 and the loss : 14.09829330444336\n",
      "Epoch number: 101 and the loss : 14.298420906066895\n",
      "Epoch number: 111 and the loss : 14.364751815795898\n",
      "Epoch number: 121 and the loss : 13.924908638000488\n",
      "Epoch number: 131 and the loss : 13.907059669494629\n",
      "Epoch number: 141 and the loss : 14.042588233947754\n",
      "Epoch number: 151 and the loss : 14.383512496948242\n",
      "Epoch number: 161 and the loss : 13.94764518737793\n",
      "Epoch number: 171 and the loss : 14.586220741271973\n",
      "Epoch number: 181 and the loss : 14.056869506835938\n",
      "Epoch number: 191 and the loss : 13.9613618850708\n"
     ]
    }
   ],
   "source": [
    "# Set Model in Training Mode\n",
    "model.train()\n",
    "epochs=200\n",
    "final_losses=[]\n",
    "for i in range(epochs):\n",
    "    i=i+1\n",
    "    y_pred=model(train_categorical,train_cont)\n",
    "    loss=torch.sqrt(loss_function(y_pred,y_train)) ### RMSE\n",
    "    final_losses.append(loss)\n",
    "    if i%10==1:\n",
    "        print(\"Epoch number: {} and the loss : {}\".format(i,loss.item()))\n",
    "    optimizer.zero_grad()\n",
    "    loss.backward()\n",
    "    optimizer.step()"
   ]
  },
  {
   "cell_type": "code",
   "execution_count": 154,
   "metadata": {},
   "outputs": [
    {
     "data": {
      "image/png": "[encoded data removed]"
     },
     "metadata": {
      "image/png": {
       "height": 0,
       "width": 0
      }
     },
     "output_type": "display_data"
    }
   ],
   "source": [
    "import matplotlib.pyplot as plt\n",
    "%matplotlib inline\n",
    "plt.plot(range(epochs), final_losses)\n",
    "plt.ylabel('RMSE Loss')\n",
    "plt.xlabel('epoch');"
   ]
  },
  {
   "cell_type": "markdown",
   "metadata": {},
   "source": [
    "#### Validate the Test Data\n",
    "HEAP-DL model acheived an **RMSE score of 7.74**"
   ]
  },
  {
   "cell_type": "code",
   "execution_count": 167,
   "metadata": {},
   "outputs": [
    {
     "name": "stdout",
     "output_type": "stream",
     "text": [
      "RMSE: 7.889071464538574\n"
     ]
    }
   ],
   "source": [
    "# Set Model in Evaluate Mode\n",
    "y_pred=\"\"\n",
    "model.eval()\n",
    "with torch.no_grad():\n",
    "    y_pred=model(test_categorical,test_cont)\n",
    "    loss=torch.sqrt(loss_function(y_pred,y_test))\n",
    "print('RMSE: {}'.format(loss))"
   ]
  },
  {
   "cell_type": "markdown",
   "metadata": {},
   "source": [
    "### Test Prediction and Difference for Visualization"
   ]
  },
  {
   "cell_type": "code",
   "execution_count": 168,
   "metadata": {},
   "outputs": [
    {
     "data": {
      "text/html": [
       "<div>\n",
       "<style scoped>\n",
       "    .dataframe tbody tr th:only-of-type {\n",
       "        vertical-align: middle;\n",
       "    }\n",
       "\n",
       "    .dataframe tbody tr th {\n",
       "        vertical-align: top;\n",
       "    }\n",
       "\n",
       "    .dataframe thead th {\n",
       "        text-align: right;\n",
       "    }\n",
       "</style>\n",
       "<table border=\"1\" class=\"dataframe\">\n",
       "  <thead>\n",
       "    <tr style=\"text-align: right;\">\n",
       "      <th></th>\n",
       "      <th>Test</th>\n",
       "      <th>Prediction</th>\n",
       "      <th>Difference</th>\n",
       "    </tr>\n",
       "  </thead>\n",
       "  <tbody>\n",
       "    <tr>\n",
       "      <th>4424</th>\n",
       "      <td>-0.159060</td>\n",
       "      <td>0.569266</td>\n",
       "      <td>-0.728326</td>\n",
       "    </tr>\n",
       "    <tr>\n",
       "      <th>3587</th>\n",
       "      <td>-0.112217</td>\n",
       "      <td>0.951311</td>\n",
       "      <td>-1.063528</td>\n",
       "    </tr>\n",
       "    <tr>\n",
       "      <th>7477</th>\n",
       "      <td>1.487474</td>\n",
       "      <td>0.303261</td>\n",
       "      <td>1.184213</td>\n",
       "    </tr>\n",
       "  </tbody>\n",
       "</table>\n",
       "</div>"
      ]
     },
     "metadata": {},
     "output_type": "display_data"
    }
   ],
   "source": [
    "data_verify=pd.DataFrame(y_test.tolist(),columns=[\"Test\"])\n",
    "data_predicted=pd.DataFrame(y_pred.tolist(),columns=[\"Prediction\"])\n",
    "final_output=pd.concat([data_verify,data_predicted],axis=1)\n",
    "final_output['Difference']=final_output['Test']-final_output['Prediction']\n",
    "final_output.sample(3)"
   ]
  },
  {
   "cell_type": "code",
   "execution_count": 40,
   "metadata": {},
   "outputs": [
    {
     "data": {
      "text/plain": [
       "Unsupported"
      ]
     },
     "metadata": {},
     "output_type": "display_data"
    }
   ],
   "source": [
    "import plotly.express as px\n",
    "import plotly.graph_objects as go\n",
    "\n",
    "fig = go.Figure()\n",
    "fig.add_trace(go.Scatter(go.Scatter(x=final_output['Test'].index, y=final_output['Test'],\n",
    "                    mode='lines',\n",
    "                    name='Actual Value')))\n",
    "fig.add_trace(go.Scatter(go.Scatter(x=final_output['Prediction'].index, y=final_output['Prediction'],\n",
    "                    mode='lines',\n",
    "                    name='Test prediction')))\n",
    "\n",
    "fig.update_layout(\n",
    "    xaxis=dict(\n",
    "        showline=True,\n",
    "        showgrid=True,\n",
    "        showticklabels=False,\n",
    "        linecolor='white',\n",
    "        linewidth=1\n",
    "    ),\n",
    "    yaxis=dict(\n",
    "        title_text='Paid Amount',\n",
    "        titlefont=dict(\n",
    "            family='Rockwell',\n",
    "            size=12,\n",
    "            color='white',\n",
    "        ),\n",
    "        showline=True,\n",
    "        showgrid=True,\n",
    "        showticklabels=True,\n",
    "        linecolor='white',\n",
    "        linewidth=1,\n",
    "        ticks='outside',\n",
    "        tickfont=dict(\n",
    "            family='Rockwell',\n",
    "            size=12,\n",
    "            color='white',\n",
    "        ),\n",
    "    ),\n",
    "    showlegend=True,\n",
    "    template = 'plotly_dark'\n",
    "\n",
    ")\n",
    "\n",
    "\n",
    "\n",
    "annotations = []\n",
    "annotations.append(dict(xref='paper', yref='paper', x=0.0, y=1.05,\n",
    "                              xanchor='left', yanchor='bottom',\n",
    "                              text='HEAP-DL Results',\n",
    "                              font=dict(family='Rockwell',\n",
    "                                        size=26,\n",
    "                                        color='white'),\n",
    "                              showarrow=False))\n",
    "fig.update_layout(annotations=annotations)\n",
    "\n",
    "fig.show()"
   ]
  },
  {
   "cell_type": "markdown",
   "metadata": {},
   "source": [
    "### Saving the Model with State Dictionaries"
   ]
  },
  {
   "cell_type": "code",
   "execution_count": 41,
   "metadata": {},
   "outputs": [],
   "source": [
    "torch.save(model.state_dict(),'/data/workspace_files/model/heapdl-baseline.pt')"
   ]
  },
  {
   "cell_type": "markdown",
   "metadata": {},
   "source": [
    "### Loading model and using prior defined Embedding dimensions"
   ]
  },
  {
   "cell_type": "code",
   "execution_count": 43,
   "metadata": {},
   "outputs": [
    {
     "data": {
      "text/plain": [
       "<All keys matched successfully>"
      ]
     },
     "metadata": {},
     "output_type": "display_data"
    }
   ],
   "source": [
    "embs_size=[(4, 2), (5, 3), (6, 3), (64, 32), (43, 22), (3, 2), (10, 5), (5, 3)]\n",
    "\n",
    "\n",
    "model1= FeedForwardNN(embs_size,len(cont_features),1,[50,50,50,50],p=0.2)\n",
    "model1.load_state_dict(torch.load('/data/workspace_files/model/heapdl-baseline.pt'))"
   ]
  },
  {
   "cell_type": "code",
   "execution_count": 44,
   "metadata": {},
   "outputs": [
    {
     "data": {
      "text/plain": [
       "FeedForwardNN(\n",
       "  (embeds): ModuleList(\n",
       "    (0): Embedding(4, 2)\n",
       "    (1): Embedding(5, 3)\n",
       "    (2): Embedding(6, 3)\n",
       "    (3): Embedding(64, 32)\n",
       "    (4): Embedding(43, 22)\n",
       "    (5): Embedding(3, 2)\n",
       "    (6): Embedding(10, 5)\n",
       "    (7): Embedding(5, 3)\n",
       "  )\n",
       "  (emb_drop): Dropout(p=0.2, inplace=False)\n",
       "  (bn_cont): BatchNorm1d(1, eps=1e-05, momentum=0.1, affine=True, track_running_stats=True)\n",
       "  (layers): Sequential(\n",
       "    (0): Linear(in_features=73, out_features=50, bias=True)\n",
       "    (1): ReLU(inplace=True)\n",
       "    (2): BatchNorm1d(50, eps=1e-05, momentum=0.1, affine=True, track_running_stats=True)\n",
       "    (3): Dropout(p=0.2, inplace=False)\n",
       "    (4): Linear(in_features=50, out_features=50, bias=True)\n",
       "    (5): ReLU(inplace=True)\n",
       "    (6): BatchNorm1d(50, eps=1e-05, momentum=0.1, affine=True, track_running_stats=True)\n",
       "    (7): Dropout(p=0.2, inplace=False)\n",
       "    (8): Linear(in_features=50, out_features=50, bias=True)\n",
       "    (9): ReLU(inplace=True)\n",
       "    (10): BatchNorm1d(50, eps=1e-05, momentum=0.1, affine=True, track_running_stats=True)\n",
       "    (11): Dropout(p=0.2, inplace=False)\n",
       "    (12): Linear(in_features=50, out_features=50, bias=True)\n",
       "    (13): ReLU(inplace=True)\n",
       "    (14): BatchNorm1d(50, eps=1e-05, momentum=0.1, affine=True, track_running_stats=True)\n",
       "    (15): Dropout(p=0.2, inplace=False)\n",
       "    (16): Linear(in_features=50, out_features=1, bias=True)\n",
       "  )\n",
       ")"
      ]
     },
     "metadata": {},
     "output_type": "display_data"
    }
   ],
   "source": [
    "model1"
   ]
  },
  {
   "cell_type": "markdown",
   "metadata": {},
   "source": [
    "## Integrated Gradients using Captum\n",
    "Reference: https://captum.ai/docs/introduction"
   ]
  },
  {
   "cell_type": "code",
   "execution_count": 45,
   "metadata": {},
   "outputs": [],
   "source": [
    "# imports from captum library\n",
    "from captum.attr import LayerConductance, LayerActivation, LayerIntegratedGradients\n",
    "from captum.attr import IntegratedGradients, DeepLift, GradientShap, NoiseTunnel, FeatureAblation\n",
    "from captum.attr import configure_interpretable_embedding_layer, remove_interpretable_embedding_layer"
   ]
  },
  {
   "cell_type": "code",
   "execution_count": 46,
   "metadata": {},
   "outputs": [],
   "source": [
    "lig = LayerIntegratedGradients(model1, model1.emb_drop)"
   ]
  },
  {
   "cell_type": "code",
   "execution_count": 47,
   "metadata": {},
   "outputs": [],
   "source": [
    "attributions_start, delta_start = lig.attribute(inputs=(test_categorical,test_cont), baselines=(test_categorical,test_cont), return_convergence_delta=True)"
   ]
  },
  {
   "cell_type": "code",
   "execution_count": 48,
   "metadata": {},
   "outputs": [
    {
     "data": {
      "text/plain": [
       "(72,)"
      ]
     },
     "metadata": {},
     "output_type": "display_data"
    }
   ],
   "source": [
    "ig_attr_test_sum = attributions_start.detach().numpy().sum(0)\n",
    "ig_attr_test_norm_sum = ig_attr_test_sum / np.linalg.norm(ig_attr_test_sum, ord=1)\n",
    "ig_attr_test_norm_sum.shape"
   ]
  },
  {
   "cell_type": "code",
   "execution_count": 49,
   "metadata": {},
   "outputs": [
    {
     "data": {
      "image/png": "[encoded data removed]"
     },
     "metadata": {
      "image/png": {
       "height": 0,
       "width": 0
      }
     },
     "output_type": "display_data"
    }
   ],
   "source": [
    "x_axis_data = np.arange(72)\n",
    "#x_axis_data_labels = list(map(lambda idx: attributions_start[:,idx], x_axis_data))\n",
    "\n",
    "ig_attr_test_sum = attributions_start.detach().numpy().sum(0)\n",
    "ig_attr_test_norm_sum = ig_attr_test_sum / np.linalg.norm(ig_attr_test_sum, ord=1)\n",
    "\n",
    "lin_weight = model.layers[4].weight[0].detach().numpy()\n",
    "y_axis_lin_weight = lin_weight / np.linalg.norm(lin_weight, ord=1)\n",
    "\n",
    "width = 0.3\n",
    "legends = ['Int Grads']\n",
    "\n",
    "plt.figure(figsize=(20, 10))\n",
    "\n",
    "ax = plt.subplot()\n",
    "ax.set_title('Comparing input feature importances across multiple algorithms and learned weights')\n",
    "ax.set_ylabel('Attributions')\n",
    "\n",
    "FONT_SIZE = 9\n",
    "plt.rc('font', size=FONT_SIZE)            # fontsize of the text sizes\n",
    "plt.rc('axes', titlesize=FONT_SIZE)       # fontsize of the axes title\n",
    "plt.rc('axes', labelsize=FONT_SIZE)       # fontsize of the x and y labels\n",
    "plt.rc('legend', fontsize=FONT_SIZE - 4)  # fontsize of the legend\n",
    "\n",
    "ax.bar(x_axis_data[:70], ig_attr_test_norm_sum[:70], width, align='center', alpha=0.8, color='#eb5e7c')\n",
    "ax.autoscale_view()\n",
    "plt.tight_layout()\n",
    "\n",
    "ax.set_xticks(x_axis_data[:70])\n",
    "#ax.set_xticklabels(x_axis_data_labels)\n",
    "\n",
    "plt.legend(legends, loc=3)\n",
    "plt.show()"
   ]
  },
  {
   "cell_type": "code",
   "execution_count": 0,
   "metadata": {},
   "outputs": [],
   "source": []
  }
 ],
 "metadata": {
  "kernelspec": {
   "display_name": "Python 3",
   "language": "python",
   "name": "python3"
  },
  "language_info": {
   "codemirror_mode": {
    "name": "ipython",
    "version": 3
   },
   "file_extension": ".py",
   "mimetype": "text/x-python",
   "name": "python",
   "nbconvert_exporter": "python",
   "pygments_lexer": "ipython3",
   "version": "3.8.9"
  }
 },
 "nbformat": 4,
 "nbformat_minor": 1
}
