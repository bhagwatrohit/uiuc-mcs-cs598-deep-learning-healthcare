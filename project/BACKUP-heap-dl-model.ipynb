{
 "cells": [
  {
   "cell_type": "code",
   "execution_count": 1,
   "metadata": {},
   "outputs": [],
   "source": [
    "import pandas as pd\n",
    "%matplotlib inline\n",
    "from functools import reduce"
   ]
  },
  {
   "cell_type": "code",
   "execution_count": 2,
   "metadata": {},
   "outputs": [],
   "source": [
    "DATA_PATH='./data/'\n",
    "# DATA_PATH='/Users/a206602774/Downloads/OneDrive_1_4-14-2021/'\n",
    "\n",
    "\n",
    "files_claims = ['claims_2015.dat','claims_2016.dat', 'claims_2017.dat', 'claims_2018.dat', 'claims_2019.dat']\n",
    "files_lookup = {\n",
    "    'enroll':{'file':'enroll_synth.dat', 'key':'pat_id'},\n",
    "    'enroll2':{'file':'enroll2.dat', 'key':'pat_id'},\n",
    "    'dx_lookup':{'file':'pp_dx_lookup.dat', 'key':'dx_cd'},\n",
    "    'pos_lookup':{'file':'pp_pos_lookup.dat', 'key':'place_of_svc_cd'},\n",
    "    'pr_lookup':{'file':'pp_pr_lookup.dat', 'key':'procedure_cd'},\n",
    "    'rev_lookup':{'file':'pp_rev_lookup.dat', 'key':'rev_cd'},\n",
    "    'rx_lookup':{'file':'pp_rx_lookup.dat', 'key':'ndc'}}\n",
    "\n",
    "selected_columns = ['pat_id', 'rectype', 'pos', 'conf_num', 'ndc', 'formulary', 'quan', 'proc_cde'\n",
    "                   , 'from_dt', 'to_dt', 'diag_admit', 'diag1', 'diag2', 'diag3', 'icdprc1'\n",
    "                   , 'icdprc2', 'icdprc3', 'paid', 'copay', 'dispense_fee', 'bill_spec'\n",
    "                   , 'prscbr_spec', 'pmt_st_cd', 'paid_dt']\n",
    "group_by_columns = ['pat_id', 'from_dt', 'to_dt', 'rectype', 'conf_num', 'icdprc1'\n",
    "                    ,'diag_admit', 'diag1', 'proc_cde', 'bill_spec', 'pos', 'ndc', 'quan'\n",
    "                    ,'formulary', 'paid_dt', 'pmt_st_cd']\n",
    "date_columns = ['from_dt', 'to_dt', 'paid_dt']\n",
    "numerical_columns = ['quan', 'paid', 'copay', 'dispense_fee']\n",
    "e_selected_columns = ['der_sex', 'der_yob', 'pat_id', 'pat_state']\n",
    "e2_selected_columns = ['pat_id', 'mh_cd']\n",
    "\n",
    "claims_dtype = {}\n",
    "for column in selected_columns:\n",
    "    if column in date_columns:\n",
    "        claims_dtype[column] = 'object'\n",
    "    elif column in numerical_columns:\n",
    "        claims_dtype[column] = 'float64'\n",
    "    else:\n",
    "        claims_dtype[column] = 'str'"
   ]
  },
  {
   "cell_type": "code",
   "execution_count": 3,
   "metadata": {},
   "outputs": [],
   "source": [
    "def custom_fill_na(df):\n",
    "    for col in df:\n",
    "        #get dtype for column\n",
    "        dt = df[col].dtype \n",
    "        #check if it is a number\n",
    "        if dt == int or dt == float:\n",
    "            df[col].fillna(0, inplace=True)\n",
    "        else:\n",
    "            df[col].fillna(\"-\", inplace=True)\n",
    "        \n",
    "def load_data(files):\n",
    "    # Load Claims_15 data (revisit later)\n",
    "    data = pd.DataFrame()\n",
    "    for file in files:\n",
    "        print(file)\n",
    "        data = data.append(pd.read_table(DATA_PATH+file, delimiter=\"|\"\n",
    "                                         , usecols = selected_columns\n",
    "                                         , dtype = claims_dtype)) \n",
    "    custom_fill_na(data)        \n",
    "    # Create aggregate dataset for training\n",
    "    data = data.groupby(group_by_columns).sum().reset_index()\n",
    "    # Data type cleanup and calculate derived columns     \n",
    "    for column in date_columns: \n",
    "        data[column] = pd.to_datetime(data[column])\n",
    "\n",
    "    return data"
   ]
  },
  {
   "cell_type": "code",
   "execution_count": 4,
   "metadata": {},
   "outputs": [
    {
     "name": "stdout",
     "output_type": "stream",
     "text": [
      "claims_2015.dat\n",
      "claims_2016.dat\n"
     ]
    }
   ],
   "source": [
    "'''\n",
    "Only loading 2015 and 2016 data\n",
    "'''\n",
    "combined_data = load_data(files_claims[0:2])"
   ]
  },
  {
   "cell_type": "code",
   "execution_count": 5,
   "metadata": {},
   "outputs": [],
   "source": [
    "dx_lookup = pd.read_table(DATA_PATH+files_lookup['dx_lookup']['file'],delimiter=\"|\")\n",
    "pos_lookup = pd.read_table(DATA_PATH+files_lookup['pos_lookup']['file'],delimiter=\"|\")\n",
    "pr_lookup = pd.read_table(DATA_PATH+files_lookup['pr_lookup']['file'],delimiter=\"|\")\n",
    "rev_lookup = pd.read_table(DATA_PATH+files_lookup['rev_lookup']['file'],delimiter=\"|\")\n",
    "\n",
    "''' \n",
    "We only want the values that are available in the lookup\n",
    "'''\n",
    "dx_key = files_lookup['dx_lookup']['key']\n",
    "pos_key = files_lookup['pos_lookup']['key'] \n",
    "pr_key = files_lookup['pr_lookup']['key'] \n",
    "# rev_key = files_lookup['rev_lookup']['key'] \n",
    "\n",
    "combined_data = combined_data[(combined_data['diag1'].isin(dx_lookup[dx_key])) | (combined_data['diag1']==\"-\")]\n",
    "combined_data = combined_data[(combined_data['diag_admit'].isin(dx_lookup[dx_key])) | (combined_data['diag_admit']==\"-\")]\n",
    "# print(combined_data[(combined_data['pos'].isin(pos_lookup[pos_key])) | (combined_data['pos']==\"\")].shape)\n",
    "combined_data = combined_data[(combined_data['proc_cde'].isin(pr_lookup[pr_key])) | (combined_data['proc_cde']==\"-\")]\n",
    "\n",
    "enroll = pd.read_table(DATA_PATH+files_lookup['enroll']['file'],delimiter=\"|\", usecols = e_selected_columns)\n",
    "\n",
    "data_frames = [combined_data, enroll]\n",
    "combined_data = reduce(lambda  left,right: pd.merge(left,right,on=['pat_id'],how='inner'), data_frames)\n",
    "# Derived columns \n",
    "# combined_data['quarter'] = combined_data['to_dt'].dt.to_period(\"Q\")\n",
    "combined_data['quarter'] = combined_data['to_dt'].dt.quarter \n",
    "combined_data['duration'] = combined_data['to_dt'] - combined_data['from_dt']\n",
    "duration_bins= [pd.Timedelta(days = 0),\n",
    "                pd.Timedelta(days = 7),\n",
    "                pd.Timedelta(days = 15),\n",
    "                pd.Timedelta(days = 30),\n",
    "                pd.Timedelta(days = 60),\n",
    "                pd.Timedelta(days = 5000)]\n",
    "duration_groups = ['<7', '8-15', '16-30', '31-60', '60>']\n",
    "combined_data['duration'] = pd.cut(combined_data['duration'], bins=duration_bins, labels=duration_groups, right=False)\n",
    "\n",
    "\n",
    "combined_data['pat_age'] = combined_data['to_dt'].dt.year - combined_data['der_yob']\n",
    "pat_age_bins= [0,10,20,30,40,50,60,70,80,150]\n",
    "pat_age_groups = ['0-10', '11-20', '21-30', '31-40', '41-50', '51-60', '61-70', '71-80', '81 >']\n",
    "combined_data['age_group'] = pd.cut(combined_data['pat_age'], bins=pat_age_bins, labels=pat_age_groups, right=False)"
   ]
  },
  {
   "cell_type": "code",
   "execution_count": 6,
   "metadata": {},
   "outputs": [
    {
     "name": "stdout",
     "output_type": "stream",
     "text": [
      "(1385440, 26)\n"
     ]
    },
    {
     "data": {
      "text/html": [
       "<div>\n",
       "<style scoped>\n",
       "    .dataframe tbody tr th:only-of-type {\n",
       "        vertical-align: middle;\n",
       "    }\n",
       "\n",
       "    .dataframe tbody tr th {\n",
       "        vertical-align: top;\n",
       "    }\n",
       "\n",
       "    .dataframe thead th {\n",
       "        text-align: right;\n",
       "    }\n",
       "</style>\n",
       "<table border=\"1\" class=\"dataframe\">\n",
       "  <thead>\n",
       "    <tr style=\"text-align: right;\">\n",
       "      <th></th>\n",
       "      <th>pat_id</th>\n",
       "      <th>quarter</th>\n",
       "      <th>from_dt</th>\n",
       "      <th>to_dt</th>\n",
       "      <th>duration</th>\n",
       "      <th>paid_dt</th>\n",
       "      <th>rectype</th>\n",
       "      <th>conf_num</th>\n",
       "      <th>icdprc1</th>\n",
       "      <th>diag_admit</th>\n",
       "      <th>...</th>\n",
       "      <th>der_yob</th>\n",
       "      <th>pat_state</th>\n",
       "      <th>pat_age</th>\n",
       "      <th>age_group</th>\n",
       "      <th>quan</th>\n",
       "      <th>formulary</th>\n",
       "      <th>pmt_st_cd</th>\n",
       "      <th>paid</th>\n",
       "      <th>copay</th>\n",
       "      <th>dispense_fee</th>\n",
       "    </tr>\n",
       "  </thead>\n",
       "  <tbody>\n",
       "    <tr>\n",
       "      <th>0</th>\n",
       "      <td>0309AAAAAAAABEUP</td>\n",
       "      <td>1</td>\n",
       "      <td>2015-01-02</td>\n",
       "      <td>2015-01-02</td>\n",
       "      <td>&lt;7</td>\n",
       "      <td>2015-02-01</td>\n",
       "      <td>M</td>\n",
       "      <td>-</td>\n",
       "      <td>-</td>\n",
       "      <td>-</td>\n",
       "      <td>...</td>\n",
       "      <td>1996.0</td>\n",
       "      <td>MN</td>\n",
       "      <td>19.0</td>\n",
       "      <td>11-20</td>\n",
       "      <td>0.0</td>\n",
       "      <td>-</td>\n",
       "      <td>P</td>\n",
       "      <td>0.00</td>\n",
       "      <td>0.0</td>\n",
       "      <td>0.0</td>\n",
       "    </tr>\n",
       "    <tr>\n",
       "      <th>1</th>\n",
       "      <td>0309AAAAAAAABEUP</td>\n",
       "      <td>1</td>\n",
       "      <td>2015-01-05</td>\n",
       "      <td>2015-01-05</td>\n",
       "      <td>&lt;7</td>\n",
       "      <td>2015-02-04</td>\n",
       "      <td>M</td>\n",
       "      <td>-</td>\n",
       "      <td>-</td>\n",
       "      <td>-</td>\n",
       "      <td>...</td>\n",
       "      <td>1996.0</td>\n",
       "      <td>MN</td>\n",
       "      <td>19.0</td>\n",
       "      <td>11-20</td>\n",
       "      <td>0.0</td>\n",
       "      <td>-</td>\n",
       "      <td>P</td>\n",
       "      <td>0.00</td>\n",
       "      <td>0.0</td>\n",
       "      <td>0.0</td>\n",
       "    </tr>\n",
       "    <tr>\n",
       "      <th>2</th>\n",
       "      <td>0309AAAAAAAABEUP</td>\n",
       "      <td>1</td>\n",
       "      <td>2015-01-20</td>\n",
       "      <td>2015-01-20</td>\n",
       "      <td>&lt;7</td>\n",
       "      <td>2015-02-19</td>\n",
       "      <td>M</td>\n",
       "      <td>-</td>\n",
       "      <td>-</td>\n",
       "      <td>-</td>\n",
       "      <td>...</td>\n",
       "      <td>1996.0</td>\n",
       "      <td>MN</td>\n",
       "      <td>19.0</td>\n",
       "      <td>11-20</td>\n",
       "      <td>0.0</td>\n",
       "      <td>-</td>\n",
       "      <td>P</td>\n",
       "      <td>0.00</td>\n",
       "      <td>0.0</td>\n",
       "      <td>0.0</td>\n",
       "    </tr>\n",
       "    <tr>\n",
       "      <th>3</th>\n",
       "      <td>0309AAAAAAAABEUP</td>\n",
       "      <td>1</td>\n",
       "      <td>2015-02-10</td>\n",
       "      <td>2015-02-10</td>\n",
       "      <td>&lt;7</td>\n",
       "      <td>2015-03-12</td>\n",
       "      <td>M</td>\n",
       "      <td>-</td>\n",
       "      <td>-</td>\n",
       "      <td>-</td>\n",
       "      <td>...</td>\n",
       "      <td>1996.0</td>\n",
       "      <td>MN</td>\n",
       "      <td>19.0</td>\n",
       "      <td>11-20</td>\n",
       "      <td>0.0</td>\n",
       "      <td>-</td>\n",
       "      <td>P</td>\n",
       "      <td>0.00</td>\n",
       "      <td>0.0</td>\n",
       "      <td>0.0</td>\n",
       "    </tr>\n",
       "    <tr>\n",
       "      <th>4</th>\n",
       "      <td>0309AAAAAAAABEUP</td>\n",
       "      <td>1</td>\n",
       "      <td>2015-03-03</td>\n",
       "      <td>2015-03-03</td>\n",
       "      <td>&lt;7</td>\n",
       "      <td>2015-04-02</td>\n",
       "      <td>M</td>\n",
       "      <td>-</td>\n",
       "      <td>-</td>\n",
       "      <td>-</td>\n",
       "      <td>...</td>\n",
       "      <td>1996.0</td>\n",
       "      <td>MN</td>\n",
       "      <td>19.0</td>\n",
       "      <td>11-20</td>\n",
       "      <td>0.0</td>\n",
       "      <td>-</td>\n",
       "      <td>P</td>\n",
       "      <td>0.00</td>\n",
       "      <td>0.0</td>\n",
       "      <td>0.0</td>\n",
       "    </tr>\n",
       "    <tr>\n",
       "      <th>...</th>\n",
       "      <td>...</td>\n",
       "      <td>...</td>\n",
       "      <td>...</td>\n",
       "      <td>...</td>\n",
       "      <td>...</td>\n",
       "      <td>...</td>\n",
       "      <td>...</td>\n",
       "      <td>...</td>\n",
       "      <td>...</td>\n",
       "      <td>...</td>\n",
       "      <td>...</td>\n",
       "      <td>...</td>\n",
       "      <td>...</td>\n",
       "      <td>...</td>\n",
       "      <td>...</td>\n",
       "      <td>...</td>\n",
       "      <td>...</td>\n",
       "      <td>...</td>\n",
       "      <td>...</td>\n",
       "      <td>...</td>\n",
       "      <td>...</td>\n",
       "    </tr>\n",
       "    <tr>\n",
       "      <th>1385435</th>\n",
       "      <td>s153AAAAAQWAQSGZ</td>\n",
       "      <td>4</td>\n",
       "      <td>2016-12-28</td>\n",
       "      <td>2016-12-28</td>\n",
       "      <td>&lt;7</td>\n",
       "      <td>2017-01-27</td>\n",
       "      <td>S</td>\n",
       "      <td>-</td>\n",
       "      <td>-</td>\n",
       "      <td>-</td>\n",
       "      <td>...</td>\n",
       "      <td>1963.0</td>\n",
       "      <td>WA</td>\n",
       "      <td>53.0</td>\n",
       "      <td>51-60</td>\n",
       "      <td>0.0</td>\n",
       "      <td>-</td>\n",
       "      <td>P</td>\n",
       "      <td>181.22</td>\n",
       "      <td>0.0</td>\n",
       "      <td>0.0</td>\n",
       "    </tr>\n",
       "    <tr>\n",
       "      <th>1385436</th>\n",
       "      <td>s153AAAAAQWAQSGZ</td>\n",
       "      <td>4</td>\n",
       "      <td>2016-12-29</td>\n",
       "      <td>2016-12-29</td>\n",
       "      <td>&lt;7</td>\n",
       "      <td>2017-01-03</td>\n",
       "      <td>-</td>\n",
       "      <td>-</td>\n",
       "      <td>-</td>\n",
       "      <td>-</td>\n",
       "      <td>...</td>\n",
       "      <td>1963.0</td>\n",
       "      <td>WA</td>\n",
       "      <td>53.0</td>\n",
       "      <td>51-60</td>\n",
       "      <td>30.0</td>\n",
       "      <td>Y</td>\n",
       "      <td>P</td>\n",
       "      <td>7.00</td>\n",
       "      <td>0.0</td>\n",
       "      <td>0.0</td>\n",
       "    </tr>\n",
       "    <tr>\n",
       "      <th>1385437</th>\n",
       "      <td>s153AAAAAQWAQSGZ</td>\n",
       "      <td>4</td>\n",
       "      <td>2016-12-29</td>\n",
       "      <td>2016-12-29</td>\n",
       "      <td>&lt;7</td>\n",
       "      <td>2017-01-03</td>\n",
       "      <td>-</td>\n",
       "      <td>-</td>\n",
       "      <td>-</td>\n",
       "      <td>-</td>\n",
       "      <td>...</td>\n",
       "      <td>1963.0</td>\n",
       "      <td>WA</td>\n",
       "      <td>53.0</td>\n",
       "      <td>51-60</td>\n",
       "      <td>60.0</td>\n",
       "      <td>Y</td>\n",
       "      <td>P</td>\n",
       "      <td>13.42</td>\n",
       "      <td>0.0</td>\n",
       "      <td>0.0</td>\n",
       "    </tr>\n",
       "    <tr>\n",
       "      <th>1385438</th>\n",
       "      <td>s153AAAAAQWAQSGZ</td>\n",
       "      <td>4</td>\n",
       "      <td>2016-12-29</td>\n",
       "      <td>2016-12-29</td>\n",
       "      <td>&lt;7</td>\n",
       "      <td>2017-01-03</td>\n",
       "      <td>P</td>\n",
       "      <td>-</td>\n",
       "      <td>-</td>\n",
       "      <td>-</td>\n",
       "      <td>...</td>\n",
       "      <td>1963.0</td>\n",
       "      <td>WA</td>\n",
       "      <td>53.0</td>\n",
       "      <td>51-60</td>\n",
       "      <td>7.0</td>\n",
       "      <td>Y</td>\n",
       "      <td>P</td>\n",
       "      <td>3.79</td>\n",
       "      <td>0.0</td>\n",
       "      <td>0.0</td>\n",
       "    </tr>\n",
       "    <tr>\n",
       "      <th>1385439</th>\n",
       "      <td>s153AAAAAQWAQSGZ</td>\n",
       "      <td>4</td>\n",
       "      <td>2016-12-29</td>\n",
       "      <td>2016-12-29</td>\n",
       "      <td>&lt;7</td>\n",
       "      <td>2017-01-03</td>\n",
       "      <td>P</td>\n",
       "      <td>-</td>\n",
       "      <td>-</td>\n",
       "      <td>-</td>\n",
       "      <td>...</td>\n",
       "      <td>1963.0</td>\n",
       "      <td>WA</td>\n",
       "      <td>53.0</td>\n",
       "      <td>51-60</td>\n",
       "      <td>60.0</td>\n",
       "      <td>Y</td>\n",
       "      <td>P</td>\n",
       "      <td>519.20</td>\n",
       "      <td>0.0</td>\n",
       "      <td>0.0</td>\n",
       "    </tr>\n",
       "  </tbody>\n",
       "</table>\n",
       "<p>1385440 rows × 26 columns</p>\n",
       "</div>"
      ],
      "text/plain": [
       "                   pat_id  quarter    from_dt      to_dt duration    paid_dt  \\\n",
       "0        0309AAAAAAAABEUP        1 2015-01-02 2015-01-02       <7 2015-02-01   \n",
       "1        0309AAAAAAAABEUP        1 2015-01-05 2015-01-05       <7 2015-02-04   \n",
       "2        0309AAAAAAAABEUP        1 2015-01-20 2015-01-20       <7 2015-02-19   \n",
       "3        0309AAAAAAAABEUP        1 2015-02-10 2015-02-10       <7 2015-03-12   \n",
       "4        0309AAAAAAAABEUP        1 2015-03-03 2015-03-03       <7 2015-04-02   \n",
       "...                   ...      ...        ...        ...      ...        ...   \n",
       "1385435  s153AAAAAQWAQSGZ        4 2016-12-28 2016-12-28       <7 2017-01-27   \n",
       "1385436  s153AAAAAQWAQSGZ        4 2016-12-29 2016-12-29       <7 2017-01-03   \n",
       "1385437  s153AAAAAQWAQSGZ        4 2016-12-29 2016-12-29       <7 2017-01-03   \n",
       "1385438  s153AAAAAQWAQSGZ        4 2016-12-29 2016-12-29       <7 2017-01-03   \n",
       "1385439  s153AAAAAQWAQSGZ        4 2016-12-29 2016-12-29       <7 2017-01-03   \n",
       "\n",
       "        rectype conf_num icdprc1 diag_admit  ... der_yob pat_state pat_age  \\\n",
       "0             M        -       -          -  ...  1996.0        MN    19.0   \n",
       "1             M        -       -          -  ...  1996.0        MN    19.0   \n",
       "2             M        -       -          -  ...  1996.0        MN    19.0   \n",
       "3             M        -       -          -  ...  1996.0        MN    19.0   \n",
       "4             M        -       -          -  ...  1996.0        MN    19.0   \n",
       "...         ...      ...     ...        ...  ...     ...       ...     ...   \n",
       "1385435       S        -       -          -  ...  1963.0        WA    53.0   \n",
       "1385436       -        -       -          -  ...  1963.0        WA    53.0   \n",
       "1385437       -        -       -          -  ...  1963.0        WA    53.0   \n",
       "1385438       P        -       -          -  ...  1963.0        WA    53.0   \n",
       "1385439       P        -       -          -  ...  1963.0        WA    53.0   \n",
       "\n",
       "        age_group  quan formulary  pmt_st_cd    paid  copay dispense_fee  \n",
       "0           11-20   0.0         -          P    0.00    0.0          0.0  \n",
       "1           11-20   0.0         -          P    0.00    0.0          0.0  \n",
       "2           11-20   0.0         -          P    0.00    0.0          0.0  \n",
       "3           11-20   0.0         -          P    0.00    0.0          0.0  \n",
       "4           11-20   0.0         -          P    0.00    0.0          0.0  \n",
       "...           ...   ...       ...        ...     ...    ...          ...  \n",
       "1385435     51-60   0.0         -          P  181.22    0.0          0.0  \n",
       "1385436     51-60  30.0         Y          P    7.00    0.0          0.0  \n",
       "1385437     51-60  60.0         Y          P   13.42    0.0          0.0  \n",
       "1385438     51-60   7.0         Y          P    3.79    0.0          0.0  \n",
       "1385439     51-60  60.0         Y          P  519.20    0.0          0.0  \n",
       "\n",
       "[1385440 rows x 26 columns]"
      ]
     },
     "execution_count": 6,
     "metadata": {},
     "output_type": "execute_result"
    }
   ],
   "source": [
    "column_order = ['pat_id', 'quarter','from_dt', 'to_dt', 'duration', 'paid_dt', 'rectype', 'conf_num', 'icdprc1',\n",
    "       'diag_admit', 'diag1', 'proc_cde', 'ndc', 'bill_spec', 'pos','der_sex', 'der_yob', 'pat_state',  'pat_age',\n",
    "       'age_group', 'quan', 'formulary',  'pmt_st_cd', 'paid', 'copay', 'dispense_fee']\n",
    "\n",
    "if set(column_order) == set(combined_data.columns):\n",
    "       combined_data = combined_data[column_order]\n",
    "else: \n",
    "       print(\"Columns don't match, cannot reorder!\")\n",
    "\n",
    "print(combined_data.shape)\n",
    "combined_data"
   ]
  },
  {
   "cell_type": "code",
   "execution_count": 0,
   "metadata": {},
   "outputs": [],
   "source": [
    "\n",
    "# combined_data.to_csv(DATA_PATH+'clean/model_input.csv', sep='|')"
   ]
  },
  {
   "cell_type": "code",
   "execution_count": 0,
   "metadata": {},
   "outputs": [],
   "source": []
  },
  {
   "cell_type": "code",
   "execution_count": 7,
   "metadata": {},
   "outputs": [],
   "source": [
    "import pandas as pd\n",
    "%matplotlib inline\n",
    "import seaborn as sns\n",
    "from sklearn.preprocessing import LabelEncoder, OneHotEncoder, OrdinalEncoder, MinMaxScaler, RobustScaler, QuantileTransformer\n",
    "from scipy import stats\n",
    "import numpy as np\n",
    "import matplotlib.pyplot as plt\n",
    "from sklearn.pipeline import make_pipeline"
   ]
  },
  {
   "cell_type": "code",
   "execution_count": 8,
   "metadata": {},
   "outputs": [],
   "source": [
    "# DATA_PATH='/data/clean/model_input.csv'\n",
    "\n",
    "input_columns = ['pat_id', 'quarter','from_dt', 'to_dt', 'duration', 'paid_dt', 'rectype', 'conf_num', 'icdprc1',\n",
    "       'diag_admit', 'diag1', 'proc_cde', 'ndc', 'bill_spec', 'pos','der_sex', 'der_yob', 'pat_state',  'pat_age',\n",
    "       'age_group', 'quan', 'formulary',  'pmt_st_cd', 'paid', 'copay', 'dispense_fee']\n",
    "\n",
    "select_columns = ['quarter','duration', 'rectype', 'bill_spec', 'pos',\n",
    "                  'der_sex','formulary', 'paid', 'copay', 'dispense_fee'\n",
    "                  , 'pat_age', 'age_group','target']\n",
    "\n",
    "date_columns = ['from_dt', 'to_dt', 'paid_dt']\n",
    "numerical_columns = ['quan', 'paid', 'copay', 'dispense_fee']\n",
    "category = ['age_group','duration']\n",
    "period = ['quarter']\n",
    "\n",
    "categorical_features = ['quarter', 'rectype', 'bill_spec', 'pos',\n",
    "                  'der_sex','formulary']\n",
    "ordinal_features = ['duration', 'age_group']\n",
    "continuous_features = ['pat_age']\n",
    "target = ['target']\n",
    "\n",
    "# Create a column that represents the total cost = paid + copay + dispense_fee\n",
    "target_columns = ['paid', 'copay', 'dispense_fee']\n",
    "\n",
    "combined_data['target'] = (combined_data.loc[:, numerical_columns]).sum(axis='columns')\n",
    "\n",
    "# claims_dtype = {}\n",
    "# for column in input_columns:\n",
    "#     if column in numerical_columns:\n",
    "#         claims_dtype[column] = 'float64'\n",
    "#     else:\n",
    "#         claims_dtype[column] = 'object'"
   ]
  },
  {
   "cell_type": "code",
   "execution_count": 9,
   "metadata": {},
   "outputs": [],
   "source": [
    "# data = pd.read_csv(DATA_PATH, delimiter=\"|\", dtype = claims_dtype)"
   ]
  },
  {
   "cell_type": "code",
   "execution_count": 9,
   "metadata": {},
   "outputs": [],
   "source": [
    "# data = data.drop('Unnamed: 0', axis=1)\n",
    "# for column in date_columns:\n",
    "#     data[column] = pd.to_datetime(data[column])\n",
    "\n",
    "# for column in category: \n",
    "#     data[column] = data[column].astype('category')\n",
    "\n",
    "# print(data.shape)\n",
    "# # Drop rows with age groups as na\n",
    "# data.dropna(subset=['age_group'], inplace=True)\n",
    "# print(data.shape)\n",
    "data = combined_data[select_columns]"
   ]
  },
  {
   "cell_type": "code",
   "execution_count": 10,
   "metadata": {},
   "outputs": [
    {
     "data": {
      "text/plain": [
       "quarter            int64\n",
       "duration        category\n",
       "rectype           object\n",
       "bill_spec         object\n",
       "pos               object\n",
       "der_sex           object\n",
       "formulary         object\n",
       "paid             float64\n",
       "copay            float64\n",
       "dispense_fee     float64\n",
       "pat_age          float64\n",
       "age_group       category\n",
       "target           float64\n",
       "dtype: object"
      ]
     },
     "execution_count": 10,
     "metadata": {},
     "output_type": "execute_result"
    }
   ],
   "source": [
    "\n",
    "# # Dropping quan & pat_age\n",
    "# data = data.drop(continuous_features,axis=1)\n",
    "data.dtypes"
   ]
  },
  {
   "cell_type": "code",
   "execution_count": 11,
   "metadata": {},
   "outputs": [
    {
     "data": {
      "text/html": [
       "<div>\n",
       "<style scoped>\n",
       "    .dataframe tbody tr th:only-of-type {\n",
       "        vertical-align: middle;\n",
       "    }\n",
       "\n",
       "    .dataframe tbody tr th {\n",
       "        vertical-align: top;\n",
       "    }\n",
       "\n",
       "    .dataframe thead th {\n",
       "        text-align: right;\n",
       "    }\n",
       "</style>\n",
       "<table border=\"1\" class=\"dataframe\">\n",
       "  <thead>\n",
       "    <tr style=\"text-align: right;\">\n",
       "      <th></th>\n",
       "      <th>count</th>\n",
       "      <th>unique</th>\n",
       "      <th>top</th>\n",
       "      <th>freq</th>\n",
       "      <th>mean</th>\n",
       "      <th>std</th>\n",
       "      <th>min</th>\n",
       "      <th>25%</th>\n",
       "      <th>50%</th>\n",
       "      <th>75%</th>\n",
       "      <th>max</th>\n",
       "    </tr>\n",
       "  </thead>\n",
       "  <tbody>\n",
       "    <tr>\n",
       "      <th>quarter</th>\n",
       "      <td>1385440.0</td>\n",
       "      <td>NaN</td>\n",
       "      <td>NaN</td>\n",
       "      <td>NaN</td>\n",
       "      <td>2.522277</td>\n",
       "      <td>1.126725</td>\n",
       "      <td>1.0</td>\n",
       "      <td>2.0</td>\n",
       "      <td>3.0</td>\n",
       "      <td>4.0</td>\n",
       "      <td>4.0</td>\n",
       "    </tr>\n",
       "    <tr>\n",
       "      <th>duration</th>\n",
       "      <td>1385440</td>\n",
       "      <td>5</td>\n",
       "      <td>&lt;7</td>\n",
       "      <td>1381887</td>\n",
       "      <td>NaN</td>\n",
       "      <td>NaN</td>\n",
       "      <td>NaN</td>\n",
       "      <td>NaN</td>\n",
       "      <td>NaN</td>\n",
       "      <td>NaN</td>\n",
       "      <td>NaN</td>\n",
       "    </tr>\n",
       "    <tr>\n",
       "      <th>rectype</th>\n",
       "      <td>1385440</td>\n",
       "      <td>6</td>\n",
       "      <td>A</td>\n",
       "      <td>572658</td>\n",
       "      <td>NaN</td>\n",
       "      <td>NaN</td>\n",
       "      <td>NaN</td>\n",
       "      <td>NaN</td>\n",
       "      <td>NaN</td>\n",
       "      <td>NaN</td>\n",
       "      <td>NaN</td>\n",
       "    </tr>\n",
       "    <tr>\n",
       "      <th>bill_spec</th>\n",
       "      <td>1385440</td>\n",
       "      <td>64</td>\n",
       "      <td>-</td>\n",
       "      <td>450310</td>\n",
       "      <td>NaN</td>\n",
       "      <td>NaN</td>\n",
       "      <td>NaN</td>\n",
       "      <td>NaN</td>\n",
       "      <td>NaN</td>\n",
       "      <td>NaN</td>\n",
       "      <td>NaN</td>\n",
       "    </tr>\n",
       "    <tr>\n",
       "      <th>pos</th>\n",
       "      <td>1385440</td>\n",
       "      <td>40</td>\n",
       "      <td>11</td>\n",
       "      <td>453870</td>\n",
       "      <td>NaN</td>\n",
       "      <td>NaN</td>\n",
       "      <td>NaN</td>\n",
       "      <td>NaN</td>\n",
       "      <td>NaN</td>\n",
       "      <td>NaN</td>\n",
       "      <td>NaN</td>\n",
       "    </tr>\n",
       "    <tr>\n",
       "      <th>der_sex</th>\n",
       "      <td>1385440</td>\n",
       "      <td>3</td>\n",
       "      <td>F</td>\n",
       "      <td>857599</td>\n",
       "      <td>NaN</td>\n",
       "      <td>NaN</td>\n",
       "      <td>NaN</td>\n",
       "      <td>NaN</td>\n",
       "      <td>NaN</td>\n",
       "      <td>NaN</td>\n",
       "      <td>NaN</td>\n",
       "    </tr>\n",
       "    <tr>\n",
       "      <th>formulary</th>\n",
       "      <td>1385440</td>\n",
       "      <td>5</td>\n",
       "      <td>-</td>\n",
       "      <td>1158635</td>\n",
       "      <td>NaN</td>\n",
       "      <td>NaN</td>\n",
       "      <td>NaN</td>\n",
       "      <td>NaN</td>\n",
       "      <td>NaN</td>\n",
       "      <td>NaN</td>\n",
       "      <td>NaN</td>\n",
       "    </tr>\n",
       "    <tr>\n",
       "      <th>paid</th>\n",
       "      <td>1385440.0</td>\n",
       "      <td>NaN</td>\n",
       "      <td>NaN</td>\n",
       "      <td>NaN</td>\n",
       "      <td>107.425354</td>\n",
       "      <td>1175.263649</td>\n",
       "      <td>-3087.84</td>\n",
       "      <td>0.0</td>\n",
       "      <td>12.47</td>\n",
       "      <td>57.67</td>\n",
       "      <td>709682.55</td>\n",
       "    </tr>\n",
       "    <tr>\n",
       "      <th>copay</th>\n",
       "      <td>1385440.0</td>\n",
       "      <td>NaN</td>\n",
       "      <td>NaN</td>\n",
       "      <td>NaN</td>\n",
       "      <td>2.61997</td>\n",
       "      <td>98.791536</td>\n",
       "      <td>-8126.3</td>\n",
       "      <td>0.0</td>\n",
       "      <td>0.0</td>\n",
       "      <td>0.0</td>\n",
       "      <td>30975.0</td>\n",
       "    </tr>\n",
       "    <tr>\n",
       "      <th>dispense_fee</th>\n",
       "      <td>1385440.0</td>\n",
       "      <td>NaN</td>\n",
       "      <td>NaN</td>\n",
       "      <td>NaN</td>\n",
       "      <td>0.052732</td>\n",
       "      <td>0.36989</td>\n",
       "      <td>-1.5</td>\n",
       "      <td>0.0</td>\n",
       "      <td>0.0</td>\n",
       "      <td>0.0</td>\n",
       "      <td>18.0</td>\n",
       "    </tr>\n",
       "    <tr>\n",
       "      <th>pat_age</th>\n",
       "      <td>1383578.0</td>\n",
       "      <td>NaN</td>\n",
       "      <td>NaN</td>\n",
       "      <td>NaN</td>\n",
       "      <td>86.702111</td>\n",
       "      <td>295.872849</td>\n",
       "      <td>-1.0</td>\n",
       "      <td>26.0</td>\n",
       "      <td>46.0</td>\n",
       "      <td>59.0</td>\n",
       "      <td>2017.0</td>\n",
       "    </tr>\n",
       "    <tr>\n",
       "      <th>age_group</th>\n",
       "      <td>1351721</td>\n",
       "      <td>9</td>\n",
       "      <td>51-60</td>\n",
       "      <td>289115</td>\n",
       "      <td>NaN</td>\n",
       "      <td>NaN</td>\n",
       "      <td>NaN</td>\n",
       "      <td>NaN</td>\n",
       "      <td>NaN</td>\n",
       "      <td>NaN</td>\n",
       "      <td>NaN</td>\n",
       "    </tr>\n",
       "    <tr>\n",
       "      <th>target</th>\n",
       "      <td>1385440.0</td>\n",
       "      <td>NaN</td>\n",
       "      <td>NaN</td>\n",
       "      <td>NaN</td>\n",
       "      <td>128.847758</td>\n",
       "      <td>1198.637825</td>\n",
       "      <td>-3087.84</td>\n",
       "      <td>6.18</td>\n",
       "      <td>32.49</td>\n",
       "      <td>87.8</td>\n",
       "      <td>709682.55</td>\n",
       "    </tr>\n",
       "  </tbody>\n",
       "</table>\n",
       "</div>"
      ],
      "text/plain": [
       "                  count unique    top     freq        mean          std  \\\n",
       "quarter       1385440.0    NaN    NaN      NaN    2.522277     1.126725   \n",
       "duration        1385440      5     <7  1381887         NaN          NaN   \n",
       "rectype         1385440      6      A   572658         NaN          NaN   \n",
       "bill_spec       1385440     64      -   450310         NaN          NaN   \n",
       "pos             1385440     40     11   453870         NaN          NaN   \n",
       "der_sex         1385440      3      F   857599         NaN          NaN   \n",
       "formulary       1385440      5      -  1158635         NaN          NaN   \n",
       "paid          1385440.0    NaN    NaN      NaN  107.425354  1175.263649   \n",
       "copay         1385440.0    NaN    NaN      NaN     2.61997    98.791536   \n",
       "dispense_fee  1385440.0    NaN    NaN      NaN    0.052732      0.36989   \n",
       "pat_age       1383578.0    NaN    NaN      NaN   86.702111   295.872849   \n",
       "age_group       1351721      9  51-60   289115         NaN          NaN   \n",
       "target        1385440.0    NaN    NaN      NaN  128.847758  1198.637825   \n",
       "\n",
       "                  min   25%    50%    75%        max  \n",
       "quarter           1.0   2.0    3.0    4.0        4.0  \n",
       "duration          NaN   NaN    NaN    NaN        NaN  \n",
       "rectype           NaN   NaN    NaN    NaN        NaN  \n",
       "bill_spec         NaN   NaN    NaN    NaN        NaN  \n",
       "pos               NaN   NaN    NaN    NaN        NaN  \n",
       "der_sex           NaN   NaN    NaN    NaN        NaN  \n",
       "formulary         NaN   NaN    NaN    NaN        NaN  \n",
       "paid         -3087.84   0.0  12.47  57.67  709682.55  \n",
       "copay         -8126.3   0.0    0.0    0.0    30975.0  \n",
       "dispense_fee     -1.5   0.0    0.0    0.0       18.0  \n",
       "pat_age          -1.0  26.0   46.0   59.0     2017.0  \n",
       "age_group         NaN   NaN    NaN    NaN        NaN  \n",
       "target       -3087.84  6.18  32.49   87.8  709682.55  "
      ]
     },
     "execution_count": 11,
     "metadata": {},
     "output_type": "execute_result"
    }
   ],
   "source": [
    "\n",
    "data.describe(include='all').T"
   ]
  },
  {
   "cell_type": "code",
   "execution_count": 14,
   "metadata": {},
   "outputs": [
    {
     "data": {
      "text/plain": [
       "quarter         0\n",
       "duration        0\n",
       "rectype         0\n",
       "bill_spec       0\n",
       "pos             0\n",
       "der_sex         0\n",
       "formulary       0\n",
       "paid            0\n",
       "copay           0\n",
       "dispense_fee    0\n",
       "pat_age         0\n",
       "age_group       0\n",
       "target          0\n",
       "dtype: int64"
      ]
     },
     "execution_count": 14,
     "metadata": {},
     "output_type": "execute_result"
    }
   ],
   "source": [
    "data.isna().sum()"
   ]
  },
  {
   "cell_type": "code",
   "execution_count": 12,
   "metadata": {},
   "outputs": [
    {
     "name": "stderr",
     "output_type": "stream",
     "text": [
      "/usr/local/lib/python3.8/site-packages/pandas/core/series.py:4463: SettingWithCopyWarning: \n",
      "A value is trying to be set on a copy of a slice from a DataFrame\n",
      "\n",
      "See the caveats in the documentation: https://pandas.pydata.org/pandas-docs/stable/user_guide/indexing.html#returning-a-view-versus-a-copy\n",
      "  return super().fillna(\n"
     ]
    }
   ],
   "source": [
    "data.pat_age.fillna(0, inplace=True)"
   ]
  },
  {
   "cell_type": "code",
   "execution_count": 13,
   "metadata": {},
   "outputs": [
    {
     "name": "stderr",
     "output_type": "stream",
     "text": [
      "/usr/local/lib/python3.8/site-packages/pandas/core/generic.py:5494: SettingWithCopyWarning: \n",
      "A value is trying to be set on a copy of a slice from a DataFrame.\n",
      "Try using .loc[row_indexer,col_indexer] = value instead\n",
      "\n",
      "See the caveats in the documentation: https://pandas.pydata.org/pandas-docs/stable/user_guide/indexing.html#returning-a-view-versus-a-copy\n",
      "  self[name] = value\n"
     ]
    }
   ],
   "source": [
    "data.age_group = data.age_group.astype(str)\n",
    "data.age_group.fillna(\"-\", inplace=True)"
   ]
  },
  {
   "cell_type": "code",
   "execution_count": 15,
   "metadata": {},
   "outputs": [],
   "source": [
    "\n",
    "# # Training Data\n",
    "# data_2015 = data[data.to_dt.dt.year==2015]\n",
    "\n",
    "# # Drop Outliers\n",
    "# data_2015 = data_2015[(np.abs(stats.zscore(data_2015['target'])) < 3)]\n",
    "\n",
    "from sklearn.model_selection import train_test_split\n",
    "X_train, X_val, y_train, y_val = train_test_split(data[categorical_features + ordinal_features+continuous_features]\n",
    "                                                  , data[target], test_size=0.15, random_state=42)\n",
    "\n",
    "# # Test Data\n",
    "# data_2016 = data[data.to_dt.dt.year==2016]\n",
    "# X_test = data_2016[categorical_features + ordinal_features ]\n",
    "# Y_test = data_2016[target]"
   ]
  },
  {
   "cell_type": "code",
   "execution_count": 0,
   "metadata": {},
   "outputs": [],
   "source": [
    "for feature in categorical_features:\n",
    "    X_train[feature].value_counts(normalize=True).sort_values(ascending=False).plot()\n",
    "    plt.title(feature)\n",
    "    plt.show()"
   ]
  },
  {
   "cell_type": "markdown",
   "metadata": {},
   "source": [
    "# Embedding\n",
    "\n",
    "- One Hot Encoding for Categorical Variables using scikitlearn\n",
    "- Ordinal Encoding for Ordinal Variables using scikitlearn"
   ]
  },
  {
   "cell_type": "code",
   "execution_count": 16,
   "metadata": {},
   "outputs": [
    {
     "data": {
      "text/html": [
       "<div>\n",
       "<style scoped>\n",
       "    .dataframe tbody tr th:only-of-type {\n",
       "        vertical-align: middle;\n",
       "    }\n",
       "\n",
       "    .dataframe tbody tr th {\n",
       "        vertical-align: top;\n",
       "    }\n",
       "\n",
       "    .dataframe thead th {\n",
       "        text-align: right;\n",
       "    }\n",
       "</style>\n",
       "<table border=\"1\" class=\"dataframe\">\n",
       "  <thead>\n",
       "    <tr style=\"text-align: right;\">\n",
       "      <th></th>\n",
       "      <th>count</th>\n",
       "      <th>unique</th>\n",
       "      <th>top</th>\n",
       "      <th>freq</th>\n",
       "      <th>mean</th>\n",
       "      <th>std</th>\n",
       "      <th>min</th>\n",
       "      <th>25%</th>\n",
       "      <th>50%</th>\n",
       "      <th>75%</th>\n",
       "      <th>max</th>\n",
       "    </tr>\n",
       "  </thead>\n",
       "  <tbody>\n",
       "    <tr>\n",
       "      <th>quarter</th>\n",
       "      <td>1177624.0</td>\n",
       "      <td>NaN</td>\n",
       "      <td>NaN</td>\n",
       "      <td>NaN</td>\n",
       "      <td>2.522208</td>\n",
       "      <td>1.126751</td>\n",
       "      <td>1.0</td>\n",
       "      <td>2.0</td>\n",
       "      <td>3.0</td>\n",
       "      <td>4.0</td>\n",
       "      <td>4.0</td>\n",
       "    </tr>\n",
       "    <tr>\n",
       "      <th>rectype</th>\n",
       "      <td>1177624</td>\n",
       "      <td>6</td>\n",
       "      <td>A</td>\n",
       "      <td>486687</td>\n",
       "      <td>NaN</td>\n",
       "      <td>NaN</td>\n",
       "      <td>NaN</td>\n",
       "      <td>NaN</td>\n",
       "      <td>NaN</td>\n",
       "      <td>NaN</td>\n",
       "      <td>NaN</td>\n",
       "    </tr>\n",
       "    <tr>\n",
       "      <th>bill_spec</th>\n",
       "      <td>1177624</td>\n",
       "      <td>64</td>\n",
       "      <td>-</td>\n",
       "      <td>382693</td>\n",
       "      <td>NaN</td>\n",
       "      <td>NaN</td>\n",
       "      <td>NaN</td>\n",
       "      <td>NaN</td>\n",
       "      <td>NaN</td>\n",
       "      <td>NaN</td>\n",
       "      <td>NaN</td>\n",
       "    </tr>\n",
       "    <tr>\n",
       "      <th>pos</th>\n",
       "      <td>1177624</td>\n",
       "      <td>40</td>\n",
       "      <td>11</td>\n",
       "      <td>385781</td>\n",
       "      <td>NaN</td>\n",
       "      <td>NaN</td>\n",
       "      <td>NaN</td>\n",
       "      <td>NaN</td>\n",
       "      <td>NaN</td>\n",
       "      <td>NaN</td>\n",
       "      <td>NaN</td>\n",
       "    </tr>\n",
       "    <tr>\n",
       "      <th>der_sex</th>\n",
       "      <td>1177624</td>\n",
       "      <td>3</td>\n",
       "      <td>F</td>\n",
       "      <td>728968</td>\n",
       "      <td>NaN</td>\n",
       "      <td>NaN</td>\n",
       "      <td>NaN</td>\n",
       "      <td>NaN</td>\n",
       "      <td>NaN</td>\n",
       "      <td>NaN</td>\n",
       "      <td>NaN</td>\n",
       "    </tr>\n",
       "    <tr>\n",
       "      <th>formulary</th>\n",
       "      <td>1177624</td>\n",
       "      <td>5</td>\n",
       "      <td>-</td>\n",
       "      <td>984631</td>\n",
       "      <td>NaN</td>\n",
       "      <td>NaN</td>\n",
       "      <td>NaN</td>\n",
       "      <td>NaN</td>\n",
       "      <td>NaN</td>\n",
       "      <td>NaN</td>\n",
       "      <td>NaN</td>\n",
       "    </tr>\n",
       "    <tr>\n",
       "      <th>duration</th>\n",
       "      <td>1177624</td>\n",
       "      <td>5</td>\n",
       "      <td>&lt;7</td>\n",
       "      <td>1174597</td>\n",
       "      <td>NaN</td>\n",
       "      <td>NaN</td>\n",
       "      <td>NaN</td>\n",
       "      <td>NaN</td>\n",
       "      <td>NaN</td>\n",
       "      <td>NaN</td>\n",
       "      <td>NaN</td>\n",
       "    </tr>\n",
       "    <tr>\n",
       "      <th>age_group</th>\n",
       "      <td>1177624</td>\n",
       "      <td>10</td>\n",
       "      <td>51-60</td>\n",
       "      <td>245773</td>\n",
       "      <td>NaN</td>\n",
       "      <td>NaN</td>\n",
       "      <td>NaN</td>\n",
       "      <td>NaN</td>\n",
       "      <td>NaN</td>\n",
       "      <td>NaN</td>\n",
       "      <td>NaN</td>\n",
       "    </tr>\n",
       "    <tr>\n",
       "      <th>pat_age</th>\n",
       "      <td>1177624.0</td>\n",
       "      <td>NaN</td>\n",
       "      <td>NaN</td>\n",
       "      <td>NaN</td>\n",
       "      <td>86.686814</td>\n",
       "      <td>295.99864</td>\n",
       "      <td>-1.0</td>\n",
       "      <td>26.0</td>\n",
       "      <td>46.0</td>\n",
       "      <td>59.0</td>\n",
       "      <td>2017.0</td>\n",
       "    </tr>\n",
       "  </tbody>\n",
       "</table>\n",
       "</div>"
      ],
      "text/plain": [
       "               count unique    top     freq       mean        std  min   25%  \\\n",
       "quarter    1177624.0    NaN    NaN      NaN   2.522208   1.126751  1.0   2.0   \n",
       "rectype      1177624      6      A   486687        NaN        NaN  NaN   NaN   \n",
       "bill_spec    1177624     64      -   382693        NaN        NaN  NaN   NaN   \n",
       "pos          1177624     40     11   385781        NaN        NaN  NaN   NaN   \n",
       "der_sex      1177624      3      F   728968        NaN        NaN  NaN   NaN   \n",
       "formulary    1177624      5      -   984631        NaN        NaN  NaN   NaN   \n",
       "duration     1177624      5     <7  1174597        NaN        NaN  NaN   NaN   \n",
       "age_group    1177624     10  51-60   245773        NaN        NaN  NaN   NaN   \n",
       "pat_age    1177624.0    NaN    NaN      NaN  86.686814  295.99864 -1.0  26.0   \n",
       "\n",
       "            50%   75%     max  \n",
       "quarter     3.0   4.0     4.0  \n",
       "rectype     NaN   NaN     NaN  \n",
       "bill_spec   NaN   NaN     NaN  \n",
       "pos         NaN   NaN     NaN  \n",
       "der_sex     NaN   NaN     NaN  \n",
       "formulary   NaN   NaN     NaN  \n",
       "duration    NaN   NaN     NaN  \n",
       "age_group   NaN   NaN     NaN  \n",
       "pat_age    46.0  59.0  2017.0  "
      ]
     },
     "execution_count": 16,
     "metadata": {},
     "output_type": "execute_result"
    }
   ],
   "source": [
    "X_train.describe(include='all').T"
   ]
  },
  {
   "cell_type": "code",
   "execution_count": 28,
   "metadata": {},
   "outputs": [
    {
     "data": {
      "image/png": "[encoded data removed]",
      "text/plain": [
       "<AxesSubplot:title={'center':'Box Plot for Target'}, xlabel='target'>"
      ]
     },
     "metadata": {
      "image/png": {
       "height": 0,
       "width": 0
      }
     },
     "output_type": "display_data"
    }
   ],
   "source": [
    "plt.title(\"Box Plot for Target\")\n",
    "sns.boxplot(x=y_train['target'])"
   ]
  },
  {
   "cell_type": "code",
   "execution_count": 17,
   "metadata": {},
   "outputs": [],
   "source": [
    "one_hot_features = categorical_features\n",
    "numerical_features = continuous_features"
   ]
  },
  {
   "cell_type": "markdown",
   "metadata": {},
   "source": [
    "# Using sklearn for Column transformations and running Ridge Regression"
   ]
  },
  {
   "cell_type": "code",
   "execution_count": 19,
   "metadata": {},
   "outputs": [],
   "source": [
    "from sklearn.preprocessing import OneHotEncoder\n",
    "from sklearn.preprocessing import OrdinalEncoder\n",
    "from sklearn.preprocessing import LabelEncoder\n",
    "from sklearn.preprocessing import RobustScaler\n",
    "from sklearn.compose import make_column_transformer, TransformedTargetRegressor\n",
    "from sklearn.metrics import mean_squared_error, r2_score"
   ]
  },
  {
   "cell_type": "markdown",
   "metadata": {},
   "source": [
    "# Using scikit pipeline \n",
    "- Preprocess the dataframe \n",
    "    - Transform input columns\n",
    "    - Transform target variable \n",
    "- Use Ridge Regression Model\n",
    "- Get Scores on Validation and Test Datasets"
   ]
  },
  {
   "cell_type": "code",
   "execution_count": 20,
   "metadata": {},
   "outputs": [],
   "source": [
    "column_transform = make_column_transformer((OneHotEncoder(handle_unknown='ignore'), one_hot_features), \n",
    "                                           (OrdinalEncoder(), ordinal_features),\n",
    "                                           (RobustScaler(), continuous_features),\n",
    "                                           remainder='drop')"
   ]
  },
  {
   "cell_type": "code",
   "execution_count": 49,
   "metadata": {},
   "outputs": [
    {
     "name": "stdout",
     "output_type": "stream",
     "text": [
      "Collecting xgboost\n",
      "  Downloading xgboost-1.4.1-py3-none-macosx_10_14_x86_64.macosx_10_15_x86_64.macosx_11_0_x86_64.whl (1.2 MB)\n",
      "\u001b[K     |████████████████████████████████| 1.2 MB 910 kB/s eta 0:00:01\n",
      "\u001b[?25hRequirement already satisfied: numpy in /usr/local/lib/python3.8/site-packages (from xgboost) (1.19.1)\n",
      "Requirement already satisfied: scipy in /usr/local/lib/python3.8/site-packages (from xgboost) (1.5.4)\n",
      "Installing collected packages: xgboost\n",
      "Successfully installed xgboost-1.4.1\n",
      "Note: you may need to restart the kernel to use updated packages.\n"
     ]
    }
   ],
   "source": [
    "pip install xgboost"
   ]
  },
  {
   "cell_type": "code",
   "execution_count": 23,
   "metadata": {},
   "outputs": [
    {
     "data": {
      "text/plain": [
       "Pipeline(steps=[('columntransformer',\n",
       "                 ColumnTransformer(transformers=[('onehotencoder',\n",
       "                                                  OneHotEncoder(handle_unknown='ignore'),\n",
       "                                                  ['quarter', 'rectype',\n",
       "                                                   'bill_spec', 'pos',\n",
       "                                                   'der_sex', 'formulary']),\n",
       "                                                 ('ordinalencoder',\n",
       "                                                  OrdinalEncoder(),\n",
       "                                                  ['duration', 'age_group']),\n",
       "                                                 ('robustscaler',\n",
       "                                                  RobustScaler(),\n",
       "                                                  ['pat_age'])])),\n",
       "                ('ridge', Ridge())])"
      ]
     },
     "execution_count": 23,
     "metadata": {},
     "output_type": "execute_result"
    }
   ],
   "source": [
    "# from xgboost.sklearn import XGBRegressor\n",
    "# from sklearn.ensemble import GradientBoostingRegressor\n",
    "from sklearn.linear_model import Ridge\n",
    "\n",
    "ridge = Ridge(alpha=1.0)\n",
    "\n",
    "\n",
    "pipe_ridge = make_pipeline(column_transform, ridge)\n",
    "# prepare the model with target scaling\n",
    "target_trans_xgb = TransformedTargetRegressor(regressor=pipe_ridge, transformer=RobustScaler())\n",
    "\n",
    "pipe_ridge.fit(X_train, y_train)\n"
   ]
  },
  {
   "cell_type": "code",
   "execution_count": 27,
   "metadata": {},
   "outputs": [
    {
     "data": {
      "text/plain": [
       "(1167.0378013260695, 0.06958381418585646)"
      ]
     },
     "execution_count": 27,
     "metadata": {},
     "output_type": "execute_result"
    }
   ],
   "source": [
    "# Unable to understand why are we getting such poor results (perhaps because of the outliers?)\n",
    "y_pred = pipe_ridge.predict(X_train)\n",
    "pipe_ridge.predict(X_train)\n",
    "\n",
    "mean_squared_error(y_train, y_pred[:,0], squared=False), r2_score(y_train, y_pred[:,0])\n"
   ]
  },
  {
   "cell_type": "code",
   "execution_count": 33,
   "metadata": {},
   "outputs": [
    {
     "data": {
      "text/plain": [
       "((1177624, 9), (1177624, 1), (207816, 9), (207816, 1))"
      ]
     },
     "execution_count": 33,
     "metadata": {},
     "output_type": "execute_result"
    }
   ],
   "source": [
    "X_train.shape, y_train.shape, X_val.shape, y_val.shape"
   ]
  },
  {
   "cell_type": "code",
   "execution_count": 42,
   "metadata": {},
   "outputs": [
    {
     "data": {
      "text/plain": [
       "1361977.2297239862"
      ]
     },
     "execution_count": 42,
     "metadata": {},
     "output_type": "execute_result"
    }
   ],
   "source": [
    "from sklearn import metrics\n",
    "# def Errors(model, X_train, y_train, X_test, y_test):\n",
    "#     ATrS =  model.score(X_train,y_train)\n",
    "#     ATeS = model.score(X_test,y_test)\n",
    "#     RMSE = np.sqrt(metrics.mean_squared_error(y_test, y_pred))\n",
    "#     MSE = mean_squared_error(y_test, y_pred)\n",
    "#     return ATrS, ATeS, RMSE, MSE\n",
    "\n",
    "# ATrS, ATeS, RMSE, MSE = Errors(pipe_ridge, X_train, y_train, X_val, y_val)\n",
    "# Acc = Acc.append(pd.Series({'model':name, 'Root Mean Squared  Error': RMSE,'Accuracy on Training set':ATrS,'Accuracy on Testing set':ATeS, 'Mean square error':MSE}),ignore_index=True )\n",
    "    \n",
    "# Acc.sort_values(by='Mean square error')\n",
    "RMSE = np.sqrt(metrics.mean_squared_error(y_train, y_pred))\n",
    "RMSE"
   ]
  },
  {
   "cell_type": "code",
   "execution_count": 33,
   "metadata": {},
   "outputs": [],
   "source": [
    "from sklearn.linear_model import Ridge\n",
    "ridge = Ridge(alpha=1.0)\n",
    "pipe = make_pipeline(column_transform, ridge)\n",
    "\n",
    "\n",
    "# prepare the model with target scaling\n",
    "model = TransformedTargetRegressor(regressor=pipe, transformer=RobustScaler())"
   ]
  },
  {
   "cell_type": "code",
   "execution_count": 20,
   "metadata": {},
   "outputs": [
    {
     "data": {
      "text/plain": [
       "array([-156.66581243, -153.76710407, -157.00534567, -154.29405883,\n",
       "       -152.66323563])"
      ]
     },
     "metadata": {},
     "output_type": "display_data"
    }
   ],
   "source": [
    "from sklearn.model_selection import cross_val_score\n",
    "cross_val_score(pipe, X_train, y_train.target, cv=5, scoring='neg_mean_absolute_error',)"
   ]
  },
  {
   "cell_type": "markdown",
   "metadata": {},
   "source": [
    "## Train Data"
   ]
  },
  {
   "cell_type": "code",
   "execution_count": 34,
   "metadata": {},
   "outputs": [
    {
     "data": {
      "text/plain": [
       "Pipeline(steps=[('columntransformer',\n",
       "                 ColumnTransformer(transformers=[('onehotencoder',\n",
       "                                                  OneHotEncoder(handle_unknown='ignore'),\n",
       "                                                  ['quarter', 'rectype', 'pos',\n",
       "                                                   'der_sex']),\n",
       "                                                 ('ordinalencoder',\n",
       "                                                  OrdinalEncoder(handle_unknown='ignore'),\n",
       "                                                  ['duration', 'age_group'])])),\n",
       "                ('ridge', Ridge())])"
      ]
     },
     "metadata": {},
     "output_type": "display_data"
    }
   ],
   "source": [
    "pipe.fit(X_train, y_train)"
   ]
  },
  {
   "cell_type": "code",
   "execution_count": 35,
   "metadata": {},
   "outputs": [
    {
     "data": {
      "text/plain": [
       "(1000.7419573222202, 0.09159731420690786, 8.123618420014587e+16)"
      ]
     },
     "metadata": {},
     "output_type": "display_data"
    }
   ],
   "source": [
    "# Unable to understand why are we getting such poor results (perhaps because of the outliers?)\n",
    "y_pred = pipe.predict(X_train)\n",
    "pipe.predict(X_train)\n",
    "\n",
    "from sklearn.metrics import mean_squared_error, r2_score, mean_absolute_percentage_error\n",
    "mean_squared_error(y_train, y_pred[:,0], squared=False), r2_score(y_train, y_pred[:,0]), mean_absolute_percentage_error(y_train, y_pred[:,0])"
   ]
  },
  {
   "cell_type": "code",
   "execution_count": 36,
   "metadata": {},
   "outputs": [
    {
     "data": {
      "image/png": "[encoded data removed]"
     },
     "metadata": {
      "image/png": {
       "height": 0,
       "width": 0
      }
     },
     "output_type": "display_data"
    }
   ],
   "source": [
    "fig, ax = plt.subplots()\n",
    "ax.scatter(y_train, y_pred)\n",
    "ax.plot([y_train.min(), y_train.max()], [y_pred.min(), y_pred.max()], 'k--', lw=4)\n",
    "ax.set_xlabel('Measured')\n",
    "ax.set_ylabel('Predicted')\n",
    "plt.show()"
   ]
  },
  {
   "cell_type": "markdown",
   "metadata": {},
   "source": [
    "## Validation Data"
   ]
  },
  {
   "cell_type": "code",
   "execution_count": 25,
   "metadata": {},
   "outputs": [
    {
     "data": {
      "text/plain": [
       "(1834.033828745916, 0.03211867949046299, 8.633202775473099e+16)"
      ]
     },
     "metadata": {},
     "output_type": "display_data"
    }
   ],
   "source": [
    "# Unable to understand why are we getting such poor results (perhaps because of the outliers?)\n",
    "y_pred = pipe.predict(X_val)\n",
    "pipe.predict(X_val)\n",
    "\n",
    "from sklearn.metrics import mean_squared_error, r2_score, mean_absolute_percentage_error\n",
    "mean_squared_error(y_val, y_pred[:,0], squared=False), r2_score(y_val, y_pred[:,0]), mean_absolute_percentage_error(y_val, y_pred[:,0])"
   ]
  },
  {
   "cell_type": "code",
   "execution_count": 26,
   "metadata": {},
   "outputs": [
    {
     "data": {
      "image/png": "[encoded data removed]"
     },
     "metadata": {
      "image/png": {
       "height": 0,
       "width": 0
      }
     },
     "output_type": "display_data"
    }
   ],
   "source": [
    "fig, ax = plt.subplots()\n",
    "ax.scatter(y_val, y_pred)\n",
    "ax.plot([y_val.min(), y_val.max()], [y_pred.min(), y_pred.max()], 'k--', lw=4)\n",
    "ax.set_xlabel('Measured')\n",
    "ax.set_ylabel('Predicted')\n",
    "plt.show()"
   ]
  },
  {
   "cell_type": "code",
   "execution_count": 27,
   "metadata": {},
   "outputs": [
    {
     "data": {
      "text/plain": [
       "(-62422.118092243225,\n",
       " 26163453.346000005,\n",
       " 26225875.46409225,\n",
       " 707832.7926032136,\n",
       " 709682.55,\n",
       " 8411.563961183494)"
      ]
     },
     "metadata": {},
     "output_type": "display_data"
    }
   ],
   "source": [
    "(y_val.target - y_pred[:,0]).sum(), y_val.target.sum(), y_pred[:,0].sum() ,(y_val.target - y_pred[:,0]).max(), y_val.target.max(), y_pred[:,0].max()"
   ]
  },
  {
   "cell_type": "code",
   "execution_count": 0,
   "metadata": {},
   "outputs": [],
   "source": [
    "        "
   ]
  },
  {
   "cell_type": "code",
   "execution_count": 0,
   "metadata": {},
   "outputs": [],
   "source": []
  },
  {
   "cell_type": "code",
   "execution_count": 0,
   "metadata": {},
   "outputs": [],
   "source": []
  }
 ],
 "metadata": {
  "kernelspec": {
   "display_name": "Python 3",
   "language": "python",
   "name": "python3"
  },
  "language_info": {
   "codemirror_mode": {
    "name": "ipython",
    "version": 3
   },
   "file_extension": ".py",
   "mimetype": "text/x-python",
   "name": "python",
   "nbconvert_exporter": "python",
   "pygments_lexer": "ipython3",
   "version": "3.8.9"
  }
 },
 "nbformat": 4,
 "nbformat_minor": 1
}
